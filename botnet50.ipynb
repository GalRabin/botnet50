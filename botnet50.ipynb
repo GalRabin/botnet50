{
  "nbformat": 4,
  "nbformat_minor": 0,
  "metadata": {
    "colab": {
      "name": "Untitled0.ipynb",
      "provenance": [],
      "authorship_tag": "ABX9TyPJ3gHRfXshO6NXHI6qkj/H",
      "include_colab_link": true
    },
    "kernelspec": {
      "name": "python3",
      "display_name": "Python 3"
    }
  },
  "cells": [
    {
      "cell_type": "markdown",
      "metadata": {
        "id": "view-in-github",
        "colab_type": "text"
      },
      "source": [
        "<a href=\"https://colab.research.google.com/github/GalRabin/botnet50/blob/main/botnet50.ipynb\" target=\"_parent\"><img src=\"https://colab.research.google.com/assets/colab-badge.svg\" alt=\"Open In Colab\"/></a>"
      ]
    },
    {
      "cell_type": "markdown",
      "metadata": {
        "id": "nvAIM9AI2YLN"
      },
      "source": [
        "# Bottleneck Transformers for Visual Recognition (Link to BotNet50 [Article](https://arxiv.org/pdf/2101.11605v1.pdf))"
      ]
    },
    {
      "cell_type": "markdown",
      "metadata": {
        "id": "d-OCwJ3a2n_2"
      },
      "source": [
        "## BotNet50 implementation"
      ]
    },
    {
      "cell_type": "markdown",
      "metadata": {
        "id": "qLRhtQ0-110U"
      },
      "source": [
        "### Dependencies"
      ]
    },
    {
      "cell_type": "code",
      "metadata": {
        "colab": {
          "base_uri": "https://localhost:8080/"
        },
        "id": "imxbUCSK7aKB",
        "outputId": "83be0ab9-25d4-4c5f-914a-f2e3e800e2e8"
      },
      "source": [
        "!python -V"
      ],
      "execution_count": 49,
      "outputs": [
        {
          "output_type": "stream",
          "text": [
            "Python 3.6.9\n"
          ],
          "name": "stdout"
        }
      ]
    },
    {
      "cell_type": "code",
      "metadata": {
        "colab": {
          "base_uri": "https://localhost:8080/"
        },
        "id": "gVVo-W-p7YgV",
        "outputId": "4291237b-0283-4ca6-9086-f2dd1b3791ad"
      },
      "source": [
        "!pip freeze"
      ],
      "execution_count": 48,
      "outputs": [
        {
          "output_type": "stream",
          "text": [
            "absl-py==0.10.0\n",
            "alabaster==0.7.12\n",
            "albumentations==0.1.12\n",
            "altair==4.1.0\n",
            "appdirs==1.4.4\n",
            "argon2-cffi==20.1.0\n",
            "asgiref==3.3.1\n",
            "astor==0.8.1\n",
            "astropy==4.1\n",
            "astunparse==1.6.3\n",
            "async-generator==1.10\n",
            "atari-py==0.2.6\n",
            "atomicwrites==1.4.0\n",
            "attrs==20.3.0\n",
            "audioread==2.1.9\n",
            "autograd==1.3\n",
            "Babel==2.9.0\n",
            "backcall==0.2.0\n",
            "beautifulsoup4==4.6.3\n",
            "bleach==3.3.0\n",
            "blis==0.4.1\n",
            "bokeh==2.1.1\n",
            "Bottleneck==1.3.2\n",
            "branca==0.4.2\n",
            "bs4==0.0.1\n",
            "CacheControl==0.12.6\n",
            "cachetools==4.2.1\n",
            "catalogue==1.0.0\n",
            "certifi==2020.12.5\n",
            "cffi==1.14.4\n",
            "chainer==7.4.0\n",
            "chardet==3.0.4\n",
            "click==7.1.2\n",
            "cloudpickle==1.3.0\n",
            "cmake==3.12.0\n",
            "cmdstanpy==0.9.5\n",
            "colorlover==0.3.0\n",
            "community==1.0.0b1\n",
            "contextlib2==0.5.5\n",
            "convertdate==2.3.0\n",
            "coverage==3.7.1\n",
            "coveralls==0.5\n",
            "crcmod==1.7\n",
            "cufflinks==0.17.3\n",
            "cvxopt==1.2.5\n",
            "cvxpy==1.0.31\n",
            "cycler==0.10.0\n",
            "cymem==2.0.5\n",
            "Cython==0.29.21\n",
            "daft==0.0.4\n",
            "dask==2.12.0\n",
            "dataclasses==0.8\n",
            "datascience==0.10.6\n",
            "debugpy==1.0.0\n",
            "decorator==4.4.2\n",
            "defusedxml==0.6.0\n",
            "descartes==1.1.0\n",
            "dill==0.3.3\n",
            "distributed==1.25.3\n",
            "Django==3.1.6\n",
            "dlib==19.18.0\n",
            "dm-tree==0.1.5\n",
            "docopt==0.6.2\n",
            "docutils==0.16\n",
            "dopamine-rl==1.0.5\n",
            "earthengine-api==0.1.238\n",
            "easydict==1.9\n",
            "ecos==2.0.7.post1\n",
            "editdistance==0.5.3\n",
            "einops==0.3.0\n",
            "en-core-web-sm==2.2.5\n",
            "entrypoints==0.3\n",
            "ephem==3.7.7.1\n",
            "et-xmlfile==1.0.1\n",
            "fa2==0.3.5\n",
            "fancyimpute==0.4.3\n",
            "fastai==1.0.61\n",
            "fastdtw==0.3.4\n",
            "fastprogress==1.0.0\n",
            "fastrlock==0.5\n",
            "fbprophet==0.7.1\n",
            "feather-format==0.4.1\n",
            "filelock==3.0.12\n",
            "firebase-admin==4.4.0\n",
            "fix-yahoo-finance==0.0.22\n",
            "Flask==1.1.2\n",
            "flatbuffers==1.12\n",
            "folium==0.8.3\n",
            "future==0.16.0\n",
            "gast==0.3.3\n",
            "GDAL==2.2.2\n",
            "gdown==3.6.4\n",
            "gensim==3.6.0\n",
            "geographiclib==1.50\n",
            "geopy==1.17.0\n",
            "gin-config==0.4.0\n",
            "glob2==0.7\n",
            "google==2.0.3\n",
            "google-api-core==1.16.0\n",
            "google-api-python-client==1.7.12\n",
            "google-auth==1.25.0\n",
            "google-auth-httplib2==0.0.4\n",
            "google-auth-oauthlib==0.4.2\n",
            "google-cloud-bigquery==1.21.0\n",
            "google-cloud-bigquery-storage==1.1.0\n",
            "google-cloud-core==1.0.3\n",
            "google-cloud-datastore==1.8.0\n",
            "google-cloud-firestore==1.7.0\n",
            "google-cloud-language==1.2.0\n",
            "google-cloud-storage==1.18.1\n",
            "google-cloud-translate==1.5.0\n",
            "google-colab==1.0.0\n",
            "google-pasta==0.2.0\n",
            "google-resumable-media==0.4.1\n",
            "googleapis-common-protos==1.52.0\n",
            "googledrivedownloader==0.4\n",
            "graphviz==0.10.1\n",
            "grpcio==1.32.0\n",
            "gspread==3.0.1\n",
            "gspread-dataframe==3.0.8\n",
            "gym==0.17.3\n",
            "h5py==2.10.0\n",
            "HeapDict==1.0.1\n",
            "hijri-converter==2.1.1\n",
            "holidays==0.10.5.2\n",
            "holoviews==1.13.5\n",
            "html5lib==1.0.1\n",
            "httpimport==0.5.18\n",
            "httplib2==0.17.4\n",
            "httplib2shim==0.0.3\n",
            "humanize==0.5.1\n",
            "hyperopt==0.1.2\n",
            "ideep4py==2.0.0.post3\n",
            "idna==2.10\n",
            "image==1.5.33\n",
            "imageio==2.4.1\n",
            "imagesize==1.2.0\n",
            "imbalanced-learn==0.4.3\n",
            "imblearn==0.0\n",
            "imgaug==0.2.9\n",
            "importlib-metadata==3.4.0\n",
            "importlib-resources==5.1.0\n",
            "imutils==0.5.4\n",
            "inflect==2.1.0\n",
            "iniconfig==1.1.1\n",
            "intel-openmp==2021.1.2\n",
            "intervaltree==2.1.0\n",
            "ipykernel==4.10.1\n",
            "ipython==5.5.0\n",
            "ipython-genutils==0.2.0\n",
            "ipython-sql==0.3.9\n",
            "ipywidgets==7.6.3\n",
            "itsdangerous==1.1.0\n",
            "jax==0.2.9\n",
            "jaxlib==0.1.60+cuda101\n",
            "jdcal==1.4.1\n",
            "jedi==0.18.0\n",
            "jieba==0.42.1\n",
            "Jinja2==2.11.3\n",
            "joblib==1.0.0\n",
            "jpeg4py==0.1.4\n",
            "jsonschema==2.6.0\n",
            "jupyter==1.0.0\n",
            "jupyter-client==5.3.5\n",
            "jupyter-console==5.2.0\n",
            "jupyter-core==4.7.1\n",
            "jupyterlab-pygments==0.1.2\n",
            "jupyterlab-widgets==1.0.0\n",
            "kaggle==1.5.10\n",
            "kapre==0.1.3.1\n",
            "Keras==2.4.3\n",
            "Keras-Preprocessing==1.1.2\n",
            "keras-vis==0.4.1\n",
            "kiwisolver==1.3.1\n",
            "knnimpute==0.1.0\n",
            "korean-lunar-calendar==0.2.1\n",
            "librosa==0.8.0\n",
            "lightgbm==2.2.3\n",
            "llvmlite==0.34.0\n",
            "lmdb==0.99\n",
            "lucid==0.3.8\n",
            "LunarCalendar==0.0.9\n",
            "lxml==4.2.6\n",
            "Markdown==3.3.3\n",
            "MarkupSafe==1.1.1\n",
            "matplotlib==3.2.2\n",
            "matplotlib-venn==0.11.6\n",
            "missingno==0.4.2\n",
            "mistune==0.8.4\n",
            "mizani==0.6.0\n",
            "mkl==2019.0\n",
            "mlxtend==0.14.0\n",
            "more-itertools==8.7.0\n",
            "moviepy==0.2.3.5\n",
            "mpmath==1.1.0\n",
            "msgpack==1.0.2\n",
            "multiprocess==0.70.11.1\n",
            "multitasking==0.0.9\n",
            "murmurhash==1.0.5\n",
            "music21==5.5.0\n",
            "natsort==5.5.0\n",
            "nbclient==0.5.1\n",
            "nbconvert==5.6.1\n",
            "nbformat==5.1.2\n",
            "nest-asyncio==1.5.1\n",
            "networkx==2.5\n",
            "nibabel==3.0.2\n",
            "nltk==3.2.5\n",
            "notebook==5.3.1\n",
            "np-utils==0.5.12.1\n",
            "numba==0.51.2\n",
            "numexpr==2.7.2\n",
            "numpy==1.19.5\n",
            "nvidia-ml-py3==7.352.0\n",
            "oauth2client==4.1.3\n",
            "oauthlib==3.1.0\n",
            "okgrade==0.4.3\n",
            "opencv-contrib-python==4.1.2.30\n",
            "opencv-python==4.1.2.30\n",
            "openpyxl==2.5.9\n",
            "opt-einsum==3.3.0\n",
            "osqp==0.6.2.post0\n",
            "packaging==20.9\n",
            "palettable==3.3.0\n",
            "pandas==1.1.5\n",
            "pandas-datareader==0.9.0\n",
            "pandas-gbq==0.13.3\n",
            "pandas-profiling==1.4.1\n",
            "pandocfilters==1.4.3\n",
            "panel==0.9.7\n",
            "param==1.10.1\n",
            "parso==0.8.1\n",
            "pathlib==1.0.1\n",
            "patsy==0.5.1\n",
            "pexpect==4.8.0\n",
            "pickleshare==0.7.5\n",
            "Pillow==7.0.0\n",
            "pip-tools==4.5.1\n",
            "plac==1.1.3\n",
            "plotly==4.4.1\n",
            "plotnine==0.6.0\n",
            "pluggy==0.7.1\n",
            "pooch==1.3.0\n",
            "portpicker==1.3.1\n",
            "prefetch-generator==1.0.1\n",
            "preshed==3.0.5\n",
            "prettytable==2.0.0\n",
            "progressbar2==3.38.0\n",
            "prometheus-client==0.9.0\n",
            "promise==2.3\n",
            "prompt-toolkit==1.0.18\n",
            "protobuf==3.12.4\n",
            "psutil==5.4.8\n",
            "psycopg2==2.7.6.1\n",
            "ptyprocess==0.7.0\n",
            "py==1.10.0\n",
            "pyarrow==0.14.1\n",
            "pyasn1==0.4.8\n",
            "pyasn1-modules==0.2.8\n",
            "pycocotools==2.0.2\n",
            "pycparser==2.20\n",
            "pyct==0.4.8\n",
            "pydata-google-auth==1.1.0\n",
            "pydot==1.3.0\n",
            "pydot-ng==2.0.0\n",
            "pydotplus==2.0.2\n",
            "PyDrive==1.3.1\n",
            "pyemd==0.5.1\n",
            "pyglet==1.5.0\n",
            "Pygments==2.6.1\n",
            "pygobject==3.26.1\n",
            "pymc3==3.7\n",
            "PyMeeus==0.3.7\n",
            "pymongo==3.11.3\n",
            "pymystem3==0.2.0\n",
            "pynndescent==0.5.1\n",
            "PyOpenGL==3.1.5\n",
            "pyparsing==2.4.7\n",
            "pyrsistent==0.17.3\n",
            "pysndfile==1.3.8\n",
            "PySocks==1.7.1\n",
            "pystan==2.19.1.1\n",
            "pytest==3.6.4\n",
            "python-apt==1.6.5+ubuntu0.5\n",
            "python-chess==0.23.11\n",
            "python-dateutil==2.8.1\n",
            "python-louvain==0.15\n",
            "python-slugify==4.0.1\n",
            "python-utils==2.5.6\n",
            "pytz==2018.9\n",
            "pyviz-comms==2.0.1\n",
            "PyWavelets==1.1.1\n",
            "PyYAML==3.13\n",
            "pyzmq==22.0.2\n",
            "qdldl==0.1.5.post0\n",
            "qtconsole==5.0.2\n",
            "QtPy==1.9.0\n",
            "regex==2019.12.20\n",
            "requests==2.23.0\n",
            "requests-oauthlib==1.3.0\n",
            "resampy==0.2.2\n",
            "retrying==1.3.3\n",
            "rpy2==3.2.7\n",
            "rsa==4.7\n",
            "scikit-image==0.16.2\n",
            "scikit-learn==0.22.2.post1\n",
            "scipy==1.4.1\n",
            "screen-resolution-extra==0.0.0\n",
            "scs==2.1.2\n",
            "seaborn==0.11.1\n",
            "Send2Trash==1.5.0\n",
            "setuptools-git==1.2\n",
            "Shapely==1.7.1\n",
            "simplegeneric==0.8.1\n",
            "six==1.15.0\n",
            "sklearn==0.0\n",
            "sklearn-pandas==1.8.0\n",
            "smart-open==4.1.2\n",
            "snowballstemmer==2.1.0\n",
            "sortedcontainers==2.3.0\n",
            "SoundFile==0.10.3.post1\n",
            "spacy==2.2.4\n",
            "Sphinx==1.8.5\n",
            "sphinxcontrib-serializinghtml==1.1.4\n",
            "sphinxcontrib-websupport==1.2.4\n",
            "SQLAlchemy==1.3.23\n",
            "sqlparse==0.4.1\n",
            "srsly==1.0.5\n",
            "statsmodels==0.10.2\n",
            "sympy==1.1.1\n",
            "tables==3.4.4\n",
            "tabulate==0.8.7\n",
            "tblib==1.7.0\n",
            "tensorboard==2.4.1\n",
            "tensorboard-plugin-wit==1.8.0\n",
            "tensorflow==2.4.1\n",
            "tensorflow-datasets==4.0.1\n",
            "tensorflow-estimator==2.4.0\n",
            "tensorflow-gcs-config==2.4.0\n",
            "tensorflow-hub==0.11.0\n",
            "tensorflow-metadata==0.27.0\n",
            "tensorflow-probability==0.12.1\n",
            "termcolor==1.1.0\n",
            "terminado==0.9.2\n",
            "testpath==0.4.4\n",
            "text-unidecode==1.3\n",
            "textblob==0.15.3\n",
            "textgenrnn==1.4.1\n",
            "Theano==1.0.5\n",
            "thinc==7.4.0\n",
            "tifffile==2020.9.3\n",
            "toml==0.10.2\n",
            "toolz==0.11.1\n",
            "torch==1.7.0+cu101\n",
            "torchsummary==1.5.1\n",
            "torchtext==0.3.1\n",
            "torchvision==0.8.1+cu101\n",
            "tornado==5.1.1\n",
            "tqdm==4.41.1\n",
            "traitlets==4.3.3\n",
            "tweepy==3.6.0\n",
            "typeguard==2.7.1\n",
            "typing-extensions==3.7.4.3\n",
            "tzlocal==1.5.1\n",
            "umap-learn==0.5.0\n",
            "uritemplate==3.0.1\n",
            "urllib3==1.24.3\n",
            "vega-datasets==0.9.0\n",
            "wasabi==0.8.2\n",
            "wcwidth==0.2.5\n",
            "webencodings==0.5.1\n",
            "Werkzeug==1.0.1\n",
            "widgetsnbextension==3.5.1\n",
            "wordcloud==1.5.0\n",
            "wrapt==1.12.1\n",
            "xarray==0.15.1\n",
            "xgboost==0.90\n",
            "xkit==0.0.0\n",
            "xlrd==1.1.0\n",
            "xlwt==1.3.0\n",
            "yellowbrick==0.9.1\n",
            "zict==2.0.0\n",
            "zipp==3.4.0\n"
          ],
          "name": "stdout"
        }
      ]
    },
    {
      "cell_type": "code",
      "metadata": {
        "colab": {
          "base_uri": "https://localhost:8080/"
        },
        "id": "k6EeTlVNz8aB",
        "outputId": "716982e0-d809-4b38-c7fe-639bb6cf1689"
      },
      "source": [
        "!pip install einops"
      ],
      "execution_count": 47,
      "outputs": [
        {
          "output_type": "stream",
          "text": [
            "Requirement already satisfied: einops in /usr/local/lib/python3.6/dist-packages (0.3.0)\n"
          ],
          "name": "stdout"
        }
      ]
    },
    {
      "cell_type": "markdown",
      "metadata": {
        "id": "buipsx-21f_7"
      },
      "source": [
        "### Imports"
      ]
    },
    {
      "cell_type": "code",
      "metadata": {
        "id": "mPGTHH5GwN-7"
      },
      "source": [
        "import torch\n",
        "from torch import nn, einsum\n",
        "\n",
        "from einops import rearrange\n",
        "from torchvision.models import resnet50"
      ],
      "execution_count": 41,
      "outputs": []
    },
    {
      "cell_type": "markdown",
      "metadata": {
        "id": "b-A3McBk1exE"
      },
      "source": [
        "### Helper functions"
      ]
    },
    {
      "cell_type": "code",
      "metadata": {
        "id": "LjmtCP1rzm-U"
      },
      "source": [
        "def pair(x):\n",
        "    return (x, x) if not isinstance(x, tuple) else x\n",
        "\n",
        "\n",
        "def expand_dim(t, dim, k):\n",
        "    t = t.unsqueeze(dim=dim)\n",
        "    expand_shape = [-1] * len(t.shape)\n",
        "    expand_shape[dim] = k\n",
        "    return t.expand(*expand_shape)\n",
        "\n",
        "\n",
        "def rel_to_abs(x):\n",
        "    b, h, l, _, device, dtype = *x.shape, x.device, x.dtype\n",
        "    dd = {'device': device, 'dtype': dtype}\n",
        "    col_pad = torch.zeros((b, h, l, 1), **dd)\n",
        "    x = torch.cat((x, col_pad), dim=3)\n",
        "    flat_x = rearrange(x, 'b h l c -> b h (l c)')\n",
        "    flat_pad = torch.zeros((b, h, l - 1), **dd)\n",
        "    flat_x_padded = torch.cat((flat_x, flat_pad), dim=2)\n",
        "    final_x = flat_x_padded.reshape(b, h, l + 1, 2 * l - 1)\n",
        "    final_x = final_x[:, :, :l, (l - 1):]\n",
        "    return final_x\n",
        "\n",
        "\n",
        "def relative_logits_1d(q, rel_k):\n",
        "    b, heads, h, w, dim = q.shape\n",
        "    logits = einsum('b h x y d, r d -> b h x y r', q, rel_k)\n",
        "    logits = rearrange(logits, 'b h x y r -> b (h x) y r')\n",
        "    logits = rel_to_abs(logits)\n",
        "    logits = logits.reshape(b, heads, h, w, w)\n",
        "    logits = expand_dim(logits, dim=3, k=h)\n",
        "    return logits\n",
        "\n",
        "\n",
        "# positional embeddings\n",
        "\n",
        "class AbsPosEmb(nn.Module):\n",
        "    def __init__(\n",
        "            self,\n",
        "            fmap_size,\n",
        "            dim_head\n",
        "    ):\n",
        "        super().__init__()\n",
        "        height, width = pair(fmap_size)\n",
        "        scale = dim_head ** -0.5\n",
        "        self.height = nn.Parameter(torch.randn(height, dim_head) * scale)\n",
        "        self.width = nn.Parameter(torch.randn(width, dim_head) * scale)\n",
        "\n",
        "    def forward(self, q):\n",
        "        emb = rearrange(self.height, 'h d -> h () d') + rearrange(self.width, 'w d -> () w d')\n",
        "        emb = rearrange(emb, ' h w d -> (h w) d')\n",
        "        logits = einsum('b h i d, j d -> b h i j', q, emb)\n",
        "        return logits\n",
        "\n",
        "\n",
        "class RelPosEmb(nn.Module):\n",
        "    def __init__(\n",
        "            self,\n",
        "            fmap_size,\n",
        "            dim_head\n",
        "    ):\n",
        "        super().__init__()\n",
        "        height, width = pair(fmap_size)\n",
        "        scale = dim_head ** -0.5\n",
        "        self.fmap_size = fmap_size\n",
        "        self.rel_height = nn.Parameter(torch.randn(height * 2 - 1, dim_head) * scale)\n",
        "        self.rel_width = nn.Parameter(torch.randn(width * 2 - 1, dim_head) * scale)\n",
        "\n",
        "    def forward(self, q):\n",
        "        h, w = self.fmap_size\n",
        "\n",
        "        q = rearrange(q, 'b h (x y) d -> b h x y d', x=h, y=w)\n",
        "        rel_logits_w = relative_logits_1d(q, self.rel_width)\n",
        "        rel_logits_w = rearrange(rel_logits_w, 'b h x i y j-> b h (x y) (i j)')\n",
        "\n",
        "        q = rearrange(q, 'b h x y d -> b h y x d')\n",
        "        rel_logits_h = relative_logits_1d(q, self.rel_height)\n",
        "        rel_logits_h = rearrange(rel_logits_h, 'b h x i y j -> b h (y x) (j i)')\n",
        "        return rel_logits_w + rel_logits_h"
      ],
      "execution_count": 42,
      "outputs": []
    },
    {
      "cell_type": "markdown",
      "metadata": {
        "id": "9UvDmKkx1r74"
      },
      "source": [
        "### Attention"
      ]
    },
    {
      "cell_type": "markdown",
      "metadata": {
        "id": "yt_u1Crf6Jgw"
      },
      "source": [
        "![image.png](data:image/png;base64,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)"
      ]
    },
    {
      "cell_type": "code",
      "metadata": {
        "id": "zXCVVceI0Q6J"
      },
      "source": [
        "#####################\n",
        "##### Attention #####\n",
        "#####################\n",
        "\n",
        "class Attention(nn.Module):\n",
        "    def __init__(\n",
        "            self,\n",
        "            *,\n",
        "            dim,\n",
        "            fmap_size,\n",
        "            heads=4,\n",
        "            dim_head=128,\n",
        "            rel_pos_emb=False\n",
        "    ):\n",
        "        super().__init__()\n",
        "        self.heads = heads\n",
        "        self.scale = dim_head ** -0.5\n",
        "        inner_dim = heads * dim_head\n",
        "\n",
        "        self.to_qkv = nn.Conv2d(dim, inner_dim * 3, 1, bias=False)\n",
        "\n",
        "        rel_pos_class = AbsPosEmb if not rel_pos_emb else RelPosEmb\n",
        "        self.pos_emb = rel_pos_class(fmap_size, dim_head)\n",
        "\n",
        "    def forward(self, fmap):\n",
        "        heads, b, c, h, w = self.heads, *fmap.shape\n",
        "\n",
        "        q, k, v = self.to_qkv(fmap).chunk(3, dim=1)\n",
        "        q, k, v = map(lambda t: rearrange(t, 'b (h d) x y -> b h (x y) d', h=heads), (q, k, v))\n",
        "\n",
        "        q *= self.scale\n",
        "\n",
        "        sim = einsum('b h i d, b h j d -> b h i j', q, k)\n",
        "        sim += self.pos_emb(q)\n",
        "\n",
        "        attn = sim.softmax(dim=-1)\n",
        "\n",
        "        out = einsum('b h i j, b h j d -> b h i d', attn, v)\n",
        "        out = rearrange(out, 'b h (x y) d -> b (h d) x y', x=h, y=w)\n",
        "        return out"
      ],
      "execution_count": 43,
      "outputs": []
    },
    {
      "cell_type": "markdown",
      "metadata": {
        "id": "f6Hl7DRc2Ivz"
      },
      "source": [
        "### Bottleneck transformer"
      ]
    },
    {
      "cell_type": "markdown",
      "metadata": {
        "id": "G397I_vC6jqV"
      },
      "source": [
        "![image.png](data:image/png;base64,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)"
      ]
    },
    {
      "cell_type": "code",
      "metadata": {
        "id": "GxoeIHAb0auZ"
      },
      "source": [
        "class BottleBlock(nn.Module):\n",
        "    def __init__(\n",
        "            self,\n",
        "            *,\n",
        "            dim,\n",
        "            fmap_size,\n",
        "            dim_out,\n",
        "            proj_factor,\n",
        "            downsample,\n",
        "            heads=4,\n",
        "            dim_head=128,\n",
        "            rel_pos_emb=False,\n",
        "            activation=nn.ReLU()\n",
        "    ):\n",
        "        super().__init__()\n",
        "\n",
        "        # shortcut\n",
        "\n",
        "        if dim != dim_out or downsample:\n",
        "            kernel_size, stride, padding = (3, 2, 1) if downsample else (1, 1, 0)\n",
        "\n",
        "            self.shortcut = nn.Sequential(\n",
        "                nn.Conv2d(dim, dim_out, kernel_size, stride=stride, padding=padding, bias=False),\n",
        "                nn.BatchNorm2d(dim_out),\n",
        "                activation\n",
        "            )\n",
        "        else:\n",
        "            self.shortcut = nn.Identity()\n",
        "\n",
        "        # contraction and expansion\n",
        "\n",
        "        attn_dim_in = dim_out // proj_factor\n",
        "        attn_dim_out = heads * dim_head\n",
        "\n",
        "        self.net = nn.Sequential(\n",
        "            nn.Conv2d(dim, attn_dim_in, 1, bias=False),\n",
        "            nn.BatchNorm2d(attn_dim_in),\n",
        "            activation,\n",
        "            Attention(\n",
        "                dim=attn_dim_in,\n",
        "                fmap_size=fmap_size,\n",
        "                heads=heads,\n",
        "                dim_head=dim_head,\n",
        "                rel_pos_emb=rel_pos_emb\n",
        "            ),\n",
        "            nn.AvgPool2d((2, 2)) if downsample else nn.Identity(),\n",
        "            nn.BatchNorm2d(attn_dim_out),\n",
        "            activation,\n",
        "            nn.Conv2d(attn_dim_out, dim_out, 1, bias=False),\n",
        "            nn.BatchNorm2d(dim_out)\n",
        "        )\n",
        "\n",
        "        # init last batch norm gamma to zero\n",
        "\n",
        "        nn.init.zeros_(self.net[-1].weight)\n",
        "\n",
        "        # final activation\n",
        "\n",
        "        self.activation = activation\n",
        "\n",
        "    def forward(self, x):\n",
        "        shortcut = self.shortcut(x)\n",
        "        x = self.net(x)\n",
        "        x += shortcut\n",
        "        return self.activation(x)"
      ],
      "execution_count": 44,
      "outputs": []
    },
    {
      "cell_type": "markdown",
      "metadata": {
        "id": "49xWJZUi2AJa"
      },
      "source": [
        "### BottleStack"
      ]
    },
    {
      "cell_type": "markdown",
      "metadata": {
        "id": "-Fgns9aX7ICz"
      },
      "source": [
        "![image.png](data:image/png;base64,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)"
      ]
    },
    {
      "cell_type": "code",
      "metadata": {
        "id": "iOg-Kw1r0lAG"
      },
      "source": [
        "class BottleStack(nn.Module):\n",
        "    def __init__(\n",
        "            self,\n",
        "            *,\n",
        "            dim,\n",
        "            fmap_size,\n",
        "            dim_out=2048,\n",
        "            proj_factor=4,\n",
        "            num_layers=3,\n",
        "            heads=4,\n",
        "            dim_head=128,\n",
        "            downsample=True,\n",
        "            rel_pos_emb=False,\n",
        "            activation=nn.ReLU()\n",
        "    ):\n",
        "        super().__init__()\n",
        "        fmap_size = pair(fmap_size)\n",
        "\n",
        "        self.dim = dim\n",
        "        self.fmap_size = fmap_size\n",
        "\n",
        "        layers = []\n",
        "\n",
        "        for i in range(num_layers):\n",
        "            is_first = i == 0\n",
        "            dim = (dim if is_first else dim_out)\n",
        "            layer_downsample = is_first and downsample\n",
        "\n",
        "            fmap_divisor = (2 if downsample and not is_first else 1)\n",
        "            layer_fmap_size = tuple(map(lambda t: t // fmap_divisor, fmap_size))\n",
        "\n",
        "            layers.append(BottleBlock(\n",
        "                dim=dim,\n",
        "                fmap_size=layer_fmap_size,\n",
        "                dim_out=dim_out,\n",
        "                proj_factor=proj_factor,\n",
        "                heads=heads,\n",
        "                dim_head=dim_head,\n",
        "                downsample=layer_downsample,\n",
        "                rel_pos_emb=rel_pos_emb,\n",
        "                activation=activation\n",
        "            ))\n",
        "\n",
        "        self.net = nn.Sequential(*layers)\n",
        "\n",
        "    def forward(self, x):\n",
        "        _, c, h, w = x.shape\n",
        "        assert c == self.dim, f'channels of feature map {c} must match channels given at init {self.dim}'\n",
        "        assert h == self.fmap_size[0] and w == self.fmap_size[\n",
        "            1], f'height and width ({h} {w}) of feature map must match the fmap_size given at init {self.fmap_size}'\n",
        "        return self.net(x)"
      ],
      "execution_count": 45,
      "outputs": []
    },
    {
      "cell_type": "markdown",
      "metadata": {
        "id": "wu8yYZJR2QPv"
      },
      "source": [
        "### BotNet50"
      ]
    },
    {
      "cell_type": "markdown",
      "metadata": {
        "id": "f2C0A2bQ7ORX"
      },
      "source": [
        "![image.png](data:image/png;base64,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)"
      ]
    },
    {
      "cell_type": "code",
      "metadata": {
        "id": "Bp33y5Lo0uu1"
      },
      "source": [
        "class BotNet50(nn.Module):\n",
        "    def __init__(self):\n",
        "        super(BotNet50, self).__init__()\n",
        "        layer = BottleStack(\n",
        "            dim=256,\n",
        "            fmap_size=56,  # set specifically for imagenet's 224 x 224\n",
        "            dim_out=2048,\n",
        "            proj_factor=4,\n",
        "            downsample=True,\n",
        "            heads=4,\n",
        "            dim_head=128,\n",
        "            rel_pos_emb=True,\n",
        "            activation=nn.ReLU()\n",
        "        )\n",
        "\n",
        "        resnet = resnet50()\n",
        "\n",
        "        # model surgery\n",
        "\n",
        "        backbone = list(resnet.children())\n",
        "\n",
        "        self._model = nn.Sequential(\n",
        "            *backbone[:7],\n",
        "            layer,\n",
        "            *backbone[8:],\n",
        "        )\n",
        "\n",
        "    def forward(self, img):\n",
        "        return self._model(img)"
      ],
      "execution_count": 46,
      "outputs": []
    },
    {
      "cell_type": "markdown",
      "metadata": {
        "id": "9Rnlk_ni3BNP"
      },
      "source": [
        "## BotNet50 train"
      ]
    },
    {
      "cell_type": "markdown",
      "metadata": {
        "id": "0aU4Tmz143JX"
      },
      "source": [
        "### Data load"
      ]
    },
    {
      "cell_type": "markdown",
      "metadata": {
        "id": "kI7hgoeh4_Ff"
      },
      "source": [
        "### Train"
      ]
    },
    {
      "cell_type": "markdown",
      "metadata": {
        "id": "RkSOtIW33HZA"
      },
      "source": [
        "## BotNet50 test"
      ]
    },
    {
      "cell_type": "markdown",
      "metadata": {
        "id": "gwTec3JO5Dxm"
      },
      "source": [
        "### Data load"
      ]
    },
    {
      "cell_type": "markdown",
      "metadata": {
        "id": "8ZZiGM3A5GYv"
      },
      "source": [
        "### Evaluation"
      ]
    }
  ]
}