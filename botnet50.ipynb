{
  "nbformat": 4,
  "nbformat_minor": 0,
  "metadata": {
    "colab": {
      "name": "Untitled0.ipynb",
      "provenance": [],
      "toc_visible": true,
      "include_colab_link": true
    },
    "kernelspec": {
      "name": "python3",
      "display_name": "Python 3"
    },
    "accelerator": "GPU"
  },
  "cells": [
    {
      "cell_type": "markdown",
      "metadata": {
        "id": "view-in-github",
        "colab_type": "text"
      },
      "source": [
        "<a href=\"https://colab.research.google.com/github/GalRabin/botnet50/blob/main/botnet50.ipynb\" target=\"_parent\"><img src=\"https://colab.research.google.com/assets/colab-badge.svg\" alt=\"Open In Colab\"/></a>"
      ]
    },
    {
      "cell_type": "markdown",
      "metadata": {
        "id": "nvAIM9AI2YLN"
      },
      "source": [
        "# Bottleneck Transformers for Visual Recognition (Link to BotNet50 [Article](https://arxiv.org/pdf/2101.11605v1.pdf))"
      ]
    },
    {
      "cell_type": "markdown",
      "metadata": {
        "id": "d-OCwJ3a2n_2"
      },
      "source": [
        "## BotNet50 implementation"
      ]
    },
    {
      "cell_type": "markdown",
      "metadata": {
        "id": "qLRhtQ0-110U"
      },
      "source": [
        "### Dependencies"
      ]
    },
    {
      "cell_type": "code",
      "metadata": {
        "colab": {
          "base_uri": "https://localhost:8080/"
        },
        "id": "imxbUCSK7aKB",
        "outputId": "aec2c1bf-b948-443c-9e33-811434e2fb79"
      },
      "source": [
        "!python -V"
      ],
      "execution_count": 1,
      "outputs": [
        {
          "output_type": "stream",
          "text": [
            "Python 3.6.9\n"
          ],
          "name": "stdout"
        }
      ]
    },
    {
      "cell_type": "code",
      "metadata": {
        "colab": {
          "base_uri": "https://localhost:8080/"
        },
        "id": "gVVo-W-p7YgV",
        "outputId": "5e7739da-1750-4fac-904a-e9a65bf49657"
      },
      "source": [
        "!pip freeze"
      ],
      "execution_count": 2,
      "outputs": [
        {
          "output_type": "stream",
          "text": [
            "absl-py==0.10.0\n",
            "alabaster==0.7.12\n",
            "albumentations==0.1.12\n",
            "altair==4.1.0\n",
            "appdirs==1.4.4\n",
            "argon2-cffi==20.1.0\n",
            "asgiref==3.3.1\n",
            "astor==0.8.1\n",
            "astropy==4.1\n",
            "astunparse==1.6.3\n",
            "async-generator==1.10\n",
            "atari-py==0.2.6\n",
            "atomicwrites==1.4.0\n",
            "attrs==20.3.0\n",
            "audioread==2.1.9\n",
            "autograd==1.3\n",
            "Babel==2.9.0\n",
            "backcall==0.2.0\n",
            "beautifulsoup4==4.6.3\n",
            "bleach==3.3.0\n",
            "blis==0.4.1\n",
            "bokeh==2.1.1\n",
            "Bottleneck==1.3.2\n",
            "branca==0.4.2\n",
            "bs4==0.0.1\n",
            "CacheControl==0.12.6\n",
            "cachetools==4.2.1\n",
            "catalogue==1.0.0\n",
            "certifi==2020.12.5\n",
            "cffi==1.14.4\n",
            "chainer==7.4.0\n",
            "chardet==3.0.4\n",
            "click==7.1.2\n",
            "cloudpickle==1.3.0\n",
            "cmake==3.12.0\n",
            "cmdstanpy==0.9.5\n",
            "colorlover==0.3.0\n",
            "community==1.0.0b1\n",
            "contextlib2==0.5.5\n",
            "convertdate==2.3.0\n",
            "coverage==3.7.1\n",
            "coveralls==0.5\n",
            "crcmod==1.7\n",
            "cufflinks==0.17.3\n",
            "cupy-cuda101==7.4.0\n",
            "cvxopt==1.2.5\n",
            "cvxpy==1.0.31\n",
            "cycler==0.10.0\n",
            "cymem==2.0.5\n",
            "Cython==0.29.21\n",
            "daft==0.0.4\n",
            "dask==2.12.0\n",
            "dataclasses==0.8\n",
            "datascience==0.10.6\n",
            "debugpy==1.0.0\n",
            "decorator==4.4.2\n",
            "defusedxml==0.6.0\n",
            "descartes==1.1.0\n",
            "dill==0.3.3\n",
            "distributed==1.25.3\n",
            "Django==3.1.6\n",
            "dlib==19.18.0\n",
            "dm-tree==0.1.5\n",
            "docopt==0.6.2\n",
            "docutils==0.16\n",
            "dopamine-rl==1.0.5\n",
            "earthengine-api==0.1.238\n",
            "easydict==1.9\n",
            "ecos==2.0.7.post1\n",
            "editdistance==0.5.3\n",
            "en-core-web-sm==2.2.5\n",
            "entrypoints==0.3\n",
            "ephem==3.7.7.1\n",
            "et-xmlfile==1.0.1\n",
            "fa2==0.3.5\n",
            "fancyimpute==0.4.3\n",
            "fastai==1.0.61\n",
            "fastdtw==0.3.4\n",
            "fastprogress==1.0.0\n",
            "fastrlock==0.5\n",
            "fbprophet==0.7.1\n",
            "feather-format==0.4.1\n",
            "filelock==3.0.12\n",
            "firebase-admin==4.4.0\n",
            "fix-yahoo-finance==0.0.22\n",
            "Flask==1.1.2\n",
            "flatbuffers==1.12\n",
            "folium==0.8.3\n",
            "future==0.16.0\n",
            "gast==0.3.3\n",
            "GDAL==2.2.2\n",
            "gdown==3.6.4\n",
            "gensim==3.6.0\n",
            "geographiclib==1.50\n",
            "geopy==1.17.0\n",
            "gin-config==0.4.0\n",
            "glob2==0.7\n",
            "google==2.0.3\n",
            "google-api-core==1.16.0\n",
            "google-api-python-client==1.7.12\n",
            "google-auth==1.25.0\n",
            "google-auth-httplib2==0.0.4\n",
            "google-auth-oauthlib==0.4.2\n",
            "google-cloud-bigquery==1.21.0\n",
            "google-cloud-bigquery-storage==1.1.0\n",
            "google-cloud-core==1.0.3\n",
            "google-cloud-datastore==1.8.0\n",
            "google-cloud-firestore==1.7.0\n",
            "google-cloud-language==1.2.0\n",
            "google-cloud-storage==1.18.1\n",
            "google-cloud-translate==1.5.0\n",
            "google-colab==1.0.0\n",
            "google-pasta==0.2.0\n",
            "google-resumable-media==0.4.1\n",
            "googleapis-common-protos==1.52.0\n",
            "googledrivedownloader==0.4\n",
            "graphviz==0.10.1\n",
            "grpcio==1.32.0\n",
            "gspread==3.0.1\n",
            "gspread-dataframe==3.0.8\n",
            "gym==0.17.3\n",
            "h5py==2.10.0\n",
            "HeapDict==1.0.1\n",
            "hijri-converter==2.1.1\n",
            "holidays==0.10.5.2\n",
            "holoviews==1.13.5\n",
            "html5lib==1.0.1\n",
            "httpimport==0.5.18\n",
            "httplib2==0.17.4\n",
            "httplib2shim==0.0.3\n",
            "humanize==0.5.1\n",
            "hyperopt==0.1.2\n",
            "ideep4py==2.0.0.post3\n",
            "idna==2.10\n",
            "image==1.5.33\n",
            "imageio==2.4.1\n",
            "imagesize==1.2.0\n",
            "imbalanced-learn==0.4.3\n",
            "imblearn==0.0\n",
            "imgaug==0.2.9\n",
            "importlib-metadata==3.4.0\n",
            "importlib-resources==5.1.0\n",
            "imutils==0.5.4\n",
            "inflect==2.1.0\n",
            "iniconfig==1.1.1\n",
            "intel-openmp==2021.1.2\n",
            "intervaltree==2.1.0\n",
            "ipykernel==4.10.1\n",
            "ipython==5.5.0\n",
            "ipython-genutils==0.2.0\n",
            "ipython-sql==0.3.9\n",
            "ipywidgets==7.6.3\n",
            "itsdangerous==1.1.0\n",
            "jax==0.2.9\n",
            "jaxlib==0.1.60+cuda101\n",
            "jdcal==1.4.1\n",
            "jedi==0.18.0\n",
            "jieba==0.42.1\n",
            "Jinja2==2.11.3\n",
            "joblib==1.0.0\n",
            "jpeg4py==0.1.4\n",
            "jsonschema==2.6.0\n",
            "jupyter==1.0.0\n",
            "jupyter-client==5.3.5\n",
            "jupyter-console==5.2.0\n",
            "jupyter-core==4.7.1\n",
            "jupyterlab-pygments==0.1.2\n",
            "jupyterlab-widgets==1.0.0\n",
            "kaggle==1.5.10\n",
            "kapre==0.1.3.1\n",
            "Keras==2.4.3\n",
            "Keras-Preprocessing==1.1.2\n",
            "keras-vis==0.4.1\n",
            "kiwisolver==1.3.1\n",
            "knnimpute==0.1.0\n",
            "korean-lunar-calendar==0.2.1\n",
            "librosa==0.8.0\n",
            "lightgbm==2.2.3\n",
            "llvmlite==0.34.0\n",
            "lmdb==0.99\n",
            "lucid==0.3.8\n",
            "LunarCalendar==0.0.9\n",
            "lxml==4.2.6\n",
            "Markdown==3.3.3\n",
            "MarkupSafe==1.1.1\n",
            "matplotlib==3.2.2\n",
            "matplotlib-venn==0.11.6\n",
            "missingno==0.4.2\n",
            "mistune==0.8.4\n",
            "mizani==0.6.0\n",
            "mkl==2019.0\n",
            "mlxtend==0.14.0\n",
            "more-itertools==8.7.0\n",
            "moviepy==0.2.3.5\n",
            "mpmath==1.1.0\n",
            "msgpack==1.0.2\n",
            "multiprocess==0.70.11.1\n",
            "multitasking==0.0.9\n",
            "murmurhash==1.0.5\n",
            "music21==5.5.0\n",
            "natsort==5.5.0\n",
            "nbclient==0.5.2\n",
            "nbconvert==5.6.1\n",
            "nbformat==5.1.2\n",
            "nest-asyncio==1.5.1\n",
            "networkx==2.5\n",
            "nibabel==3.0.2\n",
            "nltk==3.2.5\n",
            "notebook==5.3.1\n",
            "np-utils==0.5.12.1\n",
            "numba==0.51.2\n",
            "numexpr==2.7.2\n",
            "numpy==1.19.5\n",
            "nvidia-ml-py3==7.352.0\n",
            "oauth2client==4.1.3\n",
            "oauthlib==3.1.0\n",
            "okgrade==0.4.3\n",
            "opencv-contrib-python==4.1.2.30\n",
            "opencv-python==4.1.2.30\n",
            "openpyxl==2.5.9\n",
            "opt-einsum==3.3.0\n",
            "osqp==0.6.2.post0\n",
            "packaging==20.9\n",
            "palettable==3.3.0\n",
            "pandas==1.1.5\n",
            "pandas-datareader==0.9.0\n",
            "pandas-gbq==0.13.3\n",
            "pandas-profiling==1.4.1\n",
            "pandocfilters==1.4.3\n",
            "panel==0.9.7\n",
            "param==1.10.1\n",
            "parso==0.8.1\n",
            "pathlib==1.0.1\n",
            "patsy==0.5.1\n",
            "pexpect==4.8.0\n",
            "pickleshare==0.7.5\n",
            "Pillow==7.0.0\n",
            "pip-tools==4.5.1\n",
            "plac==1.1.3\n",
            "plotly==4.4.1\n",
            "plotnine==0.6.0\n",
            "pluggy==0.7.1\n",
            "pooch==1.3.0\n",
            "portpicker==1.3.1\n",
            "prefetch-generator==1.0.1\n",
            "preshed==3.0.5\n",
            "prettytable==2.0.0\n",
            "progressbar2==3.38.0\n",
            "prometheus-client==0.9.0\n",
            "promise==2.3\n",
            "prompt-toolkit==1.0.18\n",
            "protobuf==3.12.4\n",
            "psutil==5.4.8\n",
            "psycopg2==2.7.6.1\n",
            "ptyprocess==0.7.0\n",
            "py==1.10.0\n",
            "pyarrow==0.14.1\n",
            "pyasn1==0.4.8\n",
            "pyasn1-modules==0.2.8\n",
            "pycocotools==2.0.2\n",
            "pycparser==2.20\n",
            "pyct==0.4.8\n",
            "pydata-google-auth==1.1.0\n",
            "pydot==1.3.0\n",
            "pydot-ng==2.0.0\n",
            "pydotplus==2.0.2\n",
            "PyDrive==1.3.1\n",
            "pyemd==0.5.1\n",
            "pyglet==1.5.0\n",
            "Pygments==2.6.1\n",
            "pygobject==3.26.1\n",
            "pymc3==3.7\n",
            "PyMeeus==0.3.7\n",
            "pymongo==3.11.3\n",
            "pymystem3==0.2.0\n",
            "pynndescent==0.5.1\n",
            "PyOpenGL==3.1.5\n",
            "pyparsing==2.4.7\n",
            "pyrsistent==0.17.3\n",
            "pysndfile==1.3.8\n",
            "PySocks==1.7.1\n",
            "pystan==2.19.1.1\n",
            "pytest==3.6.4\n",
            "python-apt==1.6.5+ubuntu0.5\n",
            "python-chess==0.23.11\n",
            "python-dateutil==2.8.1\n",
            "python-louvain==0.15\n",
            "python-slugify==4.0.1\n",
            "python-utils==2.5.6\n",
            "pytz==2018.9\n",
            "pyviz-comms==2.0.1\n",
            "PyWavelets==1.1.1\n",
            "PyYAML==3.13\n",
            "pyzmq==22.0.2\n",
            "qdldl==0.1.5.post0\n",
            "qtconsole==5.0.2\n",
            "QtPy==1.9.0\n",
            "regex==2019.12.20\n",
            "requests==2.23.0\n",
            "requests-oauthlib==1.3.0\n",
            "resampy==0.2.2\n",
            "retrying==1.3.3\n",
            "rpy2==3.2.7\n",
            "rsa==4.7\n",
            "scikit-image==0.16.2\n",
            "scikit-learn==0.22.2.post1\n",
            "scipy==1.4.1\n",
            "screen-resolution-extra==0.0.0\n",
            "scs==2.1.2\n",
            "seaborn==0.11.1\n",
            "Send2Trash==1.5.0\n",
            "setuptools-git==1.2\n",
            "Shapely==1.7.1\n",
            "simplegeneric==0.8.1\n",
            "six==1.15.0\n",
            "sklearn==0.0\n",
            "sklearn-pandas==1.8.0\n",
            "smart-open==4.1.2\n",
            "snowballstemmer==2.1.0\n",
            "sortedcontainers==2.3.0\n",
            "SoundFile==0.10.3.post1\n",
            "spacy==2.2.4\n",
            "Sphinx==1.8.5\n",
            "sphinxcontrib-serializinghtml==1.1.4\n",
            "sphinxcontrib-websupport==1.2.4\n",
            "SQLAlchemy==1.3.23\n",
            "sqlparse==0.4.1\n",
            "srsly==1.0.5\n",
            "statsmodels==0.10.2\n",
            "sympy==1.1.1\n",
            "tables==3.4.4\n",
            "tabulate==0.8.7\n",
            "tblib==1.7.0\n",
            "tensorboard==2.4.1\n",
            "tensorboard-plugin-wit==1.8.0\n",
            "tensorflow==2.4.1\n",
            "tensorflow-datasets==4.0.1\n",
            "tensorflow-estimator==2.4.0\n",
            "tensorflow-gcs-config==2.4.0\n",
            "tensorflow-hub==0.11.0\n",
            "tensorflow-metadata==0.27.0\n",
            "tensorflow-probability==0.12.1\n",
            "termcolor==1.1.0\n",
            "terminado==0.9.2\n",
            "testpath==0.4.4\n",
            "text-unidecode==1.3\n",
            "textblob==0.15.3\n",
            "textgenrnn==1.4.1\n",
            "Theano==1.0.5\n",
            "thinc==7.4.0\n",
            "tifffile==2020.9.3\n",
            "toml==0.10.2\n",
            "toolz==0.11.1\n",
            "torch==1.7.0+cu101\n",
            "torchsummary==1.5.1\n",
            "torchtext==0.3.1\n",
            "torchvision==0.8.1+cu101\n",
            "tornado==5.1.1\n",
            "tqdm==4.41.1\n",
            "traitlets==4.3.3\n",
            "tweepy==3.6.0\n",
            "typeguard==2.7.1\n",
            "typing-extensions==3.7.4.3\n",
            "tzlocal==1.5.1\n",
            "umap-learn==0.5.0\n",
            "uritemplate==3.0.1\n",
            "urllib3==1.24.3\n",
            "vega-datasets==0.9.0\n",
            "wasabi==0.8.2\n",
            "wcwidth==0.2.5\n",
            "webencodings==0.5.1\n",
            "Werkzeug==1.0.1\n",
            "widgetsnbextension==3.5.1\n",
            "wordcloud==1.5.0\n",
            "wrapt==1.12.1\n",
            "xarray==0.15.1\n",
            "xgboost==0.90\n",
            "xkit==0.0.0\n",
            "xlrd==1.1.0\n",
            "xlwt==1.3.0\n",
            "yellowbrick==0.9.1\n",
            "zict==2.0.0\n",
            "zipp==3.4.0\n"
          ],
          "name": "stdout"
        }
      ]
    },
    {
      "cell_type": "code",
      "metadata": {
        "colab": {
          "base_uri": "https://localhost:8080/"
        },
        "id": "k6EeTlVNz8aB",
        "outputId": "302618bb-8e85-43b7-e0a6-ef72ea296530"
      },
      "source": [
        "!pip install einops"
      ],
      "execution_count": 3,
      "outputs": [
        {
          "output_type": "stream",
          "text": [
            "Collecting einops\n",
            "  Downloading https://files.pythonhosted.org/packages/5d/a0/9935e030634bf60ecd572c775f64ace82ceddf2f504a5fd3902438f07090/einops-0.3.0-py2.py3-none-any.whl\n",
            "Installing collected packages: einops\n",
            "Successfully installed einops-0.3.0\n"
          ],
          "name": "stdout"
        }
      ]
    },
    {
      "cell_type": "markdown",
      "metadata": {
        "id": "buipsx-21f_7"
      },
      "source": [
        "### Imports"
      ]
    },
    {
      "cell_type": "code",
      "metadata": {
        "id": "mPGTHH5GwN-7"
      },
      "source": [
        "import torch\n",
        "from torch import nn, einsum\n",
        "from torchvision import transforms, datasets\n",
        "from einops import rearrange\n",
        "from torchvision.models import resnet50\n",
        "from google.colab import files\n",
        "from sklearn.model_selection import train_test_split\n",
        "import matplotlib.pyplot as plt\n",
        "from time import time"
      ],
      "execution_count": 4,
      "outputs": []
    },
    {
      "cell_type": "markdown",
      "metadata": {
        "id": "C1-IiWZ7DcXh"
      },
      "source": [
        "### Constants"
      ]
    },
    {
      "cell_type": "code",
      "metadata": {
        "id": "Srxucw2LDgQ5"
      },
      "source": [
        "BATCH_SIZE = 16\r\n",
        "IM_SHAPE = (224, 224)\r\n",
        "TEST_SIZE = 0.33\r\n",
        "NUM_EPOCHS = 10\r\n",
        "PRINT_AFTER_SAMPLE = 50\r\n",
        "LEARNING_RATE = 0.001\r\n",
        "MOMENTUM = 0.997\r\n",
        "WEIGHT_DECAY = 4e-5"
      ],
      "execution_count": 5,
      "outputs": []
    },
    {
      "cell_type": "code",
      "metadata": {
        "id": "eZkK_gTcTNYj"
      },
      "source": [
        "DEVICE = torch.device(\"cuda\" if torch.cuda.is_available() else \"cpu\")"
      ],
      "execution_count": 6,
      "outputs": []
    },
    {
      "cell_type": "markdown",
      "metadata": {
        "id": "b-A3McBk1exE"
      },
      "source": [
        "### Helper functions"
      ]
    },
    {
      "cell_type": "code",
      "metadata": {
        "id": "LjmtCP1rzm-U"
      },
      "source": [
        "def pair(x):\n",
        "    return (x, x) if not isinstance(x, tuple) else x\n",
        "\n",
        "\n",
        "def expand_dim(t, dim, k):\n",
        "    t = t.unsqueeze(dim=dim)\n",
        "    expand_shape = [-1] * len(t.shape)\n",
        "    expand_shape[dim] = k\n",
        "    return t.expand(*expand_shape)\n",
        "\n",
        "\n",
        "def rel_to_abs(x):\n",
        "    b, h, l, _, device, dtype = *x.shape, x.device, x.dtype\n",
        "    dd = {'device': device, 'dtype': dtype}\n",
        "    col_pad = torch.zeros((b, h, l, 1), **dd)\n",
        "    x = torch.cat((x, col_pad), dim=3)\n",
        "    flat_x = rearrange(x, 'b h l c -> b h (l c)')\n",
        "    flat_pad = torch.zeros((b, h, l - 1), **dd)\n",
        "    flat_x_padded = torch.cat((flat_x, flat_pad), dim=2)\n",
        "    final_x = flat_x_padded.reshape(b, h, l + 1, 2 * l - 1)\n",
        "    final_x = final_x[:, :, :l, (l - 1):]\n",
        "    return final_x\n",
        "\n",
        "\n",
        "def relative_logits_1d(q, rel_k):\n",
        "    b, heads, h, w, dim = q.shape\n",
        "    logits = einsum('b h x y d, r d -> b h x y r', q, rel_k)\n",
        "    logits = rearrange(logits, 'b h x y r -> b (h x) y r')\n",
        "    logits = rel_to_abs(logits)\n",
        "    logits = logits.reshape(b, heads, h, w, w)\n",
        "    logits = expand_dim(logits, dim=3, k=h)\n",
        "    return logits\n",
        "\n",
        "\n",
        "# positional embeddings\n",
        "\n",
        "class AbsPosEmb(nn.Module):\n",
        "    def __init__(\n",
        "            self,\n",
        "            fmap_size,\n",
        "            dim_head\n",
        "    ):\n",
        "        super().__init__()\n",
        "        height, width = pair(fmap_size)\n",
        "        scale = dim_head ** -0.5\n",
        "        self.height = nn.Parameter(torch.randn(height, dim_head) * scale)\n",
        "        self.width = nn.Parameter(torch.randn(width, dim_head) * scale)\n",
        "\n",
        "    def forward(self, q):\n",
        "        emb = rearrange(self.height, 'h d -> h () d') + rearrange(self.width, 'w d -> () w d')\n",
        "        emb = rearrange(emb, ' h w d -> (h w) d')\n",
        "        logits = einsum('b h i d, j d -> b h i j', q, emb)\n",
        "        return logits\n",
        "\n",
        "\n",
        "class RelPosEmb(nn.Module):\n",
        "    def __init__(\n",
        "            self,\n",
        "            fmap_size,\n",
        "            dim_head\n",
        "    ):\n",
        "        super().__init__()\n",
        "        height, width = pair(fmap_size)\n",
        "        scale = dim_head ** -0.5\n",
        "        self.fmap_size = fmap_size\n",
        "        self.rel_height = nn.Parameter(torch.randn(height * 2 - 1, dim_head) * scale)\n",
        "        self.rel_width = nn.Parameter(torch.randn(width * 2 - 1, dim_head) * scale)\n",
        "\n",
        "    def forward(self, q):\n",
        "        h, w = self.fmap_size\n",
        "\n",
        "        q = rearrange(q, 'b h (x y) d -> b h x y d', x=h, y=w)\n",
        "        rel_logits_w = relative_logits_1d(q, self.rel_width)\n",
        "        rel_logits_w = rearrange(rel_logits_w, 'b h x i y j-> b h (x y) (i j)')\n",
        "\n",
        "        q = rearrange(q, 'b h x y d -> b h y x d')\n",
        "        rel_logits_h = relative_logits_1d(q, self.rel_height)\n",
        "        rel_logits_h = rearrange(rel_logits_h, 'b h x i y j -> b h (y x) (j i)')\n",
        "        return rel_logits_w + rel_logits_h"
      ],
      "execution_count": 7,
      "outputs": []
    },
    {
      "cell_type": "code",
      "metadata": {
        "id": "pozRhPFIUKmv"
      },
      "source": [
        "def plot_loss(train_loss):\r\n",
        "  plt.plot(range(len(train_loss)), train_loss)\r\n",
        "  plt.title(\"Train loss\")\r\n",
        "  plt.show()"
      ],
      "execution_count": 8,
      "outputs": []
    },
    {
      "cell_type": "markdown",
      "metadata": {
        "id": "9UvDmKkx1r74"
      },
      "source": [
        "### Attention"
      ]
    },
    {
      "cell_type": "markdown",
      "metadata": {
        "id": "yt_u1Crf6Jgw"
      },
      "source": [
        "![image.png](data:image/png;base64,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)"
      ]
    },
    {
      "cell_type": "code",
      "metadata": {
        "id": "zXCVVceI0Q6J"
      },
      "source": [
        "class Attention(nn.Module):\n",
        "    def __init__(\n",
        "            self,\n",
        "            dim: int,\n",
        "            fmap_size: int,\n",
        "            heads: int = 4,\n",
        "            dim_head: int = 128,\n",
        "            rel_pos_emb: bool = False\n",
        "    ):\n",
        "        \"\"\" Attention - Multi-Head Self-Attention.\n",
        "\n",
        "        Args:\n",
        "          dim: How many pixels in the image.\n",
        "          fmap_size: featuremaps size, How many featres to study?\n",
        "          heads: Number of heads in MHSA.\n",
        "          dim_head: Head dimention.\n",
        "          rel_pos_emb: True if performing Relative position encoding else Flase.\n",
        "        \"\"\"\n",
        "        super().__init__()\n",
        "        self.heads = heads\n",
        "        self.scale = dim_head ** -0.5\n",
        "        inner_dim = heads * dim_head\n",
        "\n",
        "        self.to_qkv = nn.Conv2d(dim, inner_dim * 3, 1, bias=False)\n",
        "\n",
        "        rel_pos_class = AbsPosEmb if not rel_pos_emb else RelPosEmb\n",
        "        self.pos_emb = rel_pos_class(fmap_size, dim_head)\n",
        "\n",
        "    def forward(self, fmap):\n",
        "        heads, b, c, h, w = self.heads, *fmap.shape\n",
        "\n",
        "        q, k, v = self.to_qkv(fmap).chunk(3, dim=1)\n",
        "        q, k, v = map(lambda t: rearrange(t, 'b (h d) x y -> b h (x y) d', h=heads), (q, k, v))\n",
        "\n",
        "        q *= self.scale\n",
        "\n",
        "        sim = einsum('b h i d, b h j d -> b h i j', q, k)\n",
        "        sim += self.pos_emb(q)\n",
        "\n",
        "        attn = sim.softmax(dim=-1)\n",
        "\n",
        "        out = einsum('b h i j, b h j d -> b h i d', attn, v)\n",
        "        out = rearrange(out, 'b h (x y) d -> b (h d) x y', x=h, y=w)\n",
        "        return out"
      ],
      "execution_count": 9,
      "outputs": []
    },
    {
      "cell_type": "markdown",
      "metadata": {
        "id": "f6Hl7DRc2Ivz"
      },
      "source": [
        "### BottleBlock"
      ]
    },
    {
      "cell_type": "markdown",
      "metadata": {
        "id": "G397I_vC6jqV"
      },
      "source": [
        "![image.png](data:image/png;base64,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)\n",
        "![image.png](data:image/png;base64,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)"
      ]
    },
    {
      "cell_type": "code",
      "metadata": {
        "id": "GxoeIHAb0auZ"
      },
      "source": [
        "class BottleBlock(nn.Module):\n",
        "    def __init__(\n",
        "            self,\n",
        "            dim: int,\n",
        "            fmap_size: int,\n",
        "            dim_out: int,\n",
        "            downsample: bool,\n",
        "            proj_factor: int = 4,\n",
        "            heads: int = 4,\n",
        "            dim_head: int = 128,\n",
        "            rel_pos_emb: bool = False,\n",
        "            activation=nn.ReLU()\n",
        "    ):\n",
        "        \"\"\" BottleBlock - RestNet Block with Multi-Head Self-Attention.\n",
        "\n",
        "        Args:\n",
        "          dim: How many pixels in the image.\n",
        "          fmap_size: featuremaps size, How many featres to study?\n",
        "          dim_out: BottleBlock out 1*dimention.\n",
        "          proj_factor: Projection factor.\n",
        "          downsample: True if to perform image downsample else False.\n",
        "          heads: Number of heads in MHSA.\n",
        "          dim_head: Head dimention.\n",
        "          rel_pos_emb: True if performing Relative position encoding else Flase.\n",
        "          activation: Activation function.\n",
        "        \"\"\"\n",
        "        super().__init__()\n",
        "\n",
        "        # shortcut - Downsample the image if needed\n",
        "        if dim != dim_out or downsample:\n",
        "            # If downsample -> Reduce image size with stride 2.\n",
        "            # If dim != dim_out -> Some learnning with conv (Keep same size).\n",
        "            kernel_size, stride, padding = (3, 2, 1) if downsample else (1, 1, 0)\n",
        "            self.shortcut = nn.Sequential(\n",
        "                nn.Conv2d(dim, dim_out, kernel_size, stride=stride, padding=padding, bias=False),\n",
        "                nn.BatchNorm2d(dim_out),\n",
        "                activation\n",
        "            )\n",
        "        else:\n",
        "            # dim = dimout and not downsample -> same image.\n",
        "            self.shortcut = nn.Identity()\n",
        "\n",
        "        # contraction and expansion\n",
        "        attn_dim_in = dim_out // proj_factor\n",
        "        attn_dim_out = heads * dim_head\n",
        "        self.net = nn.Sequential(\n",
        "            # Contraction\n",
        "            nn.Conv2d(dim, attn_dim_in, 1, bias=False),\n",
        "            nn.BatchNorm2d(attn_dim_in),\n",
        "            activation,\n",
        "            # MHSA\n",
        "            Attention(\n",
        "                dim=attn_dim_in,\n",
        "                fmap_size=fmap_size,\n",
        "                heads=heads,\n",
        "                dim_head=dim_head,\n",
        "                rel_pos_emb=rel_pos_emb\n",
        "            ),\n",
        "            nn.AvgPool2d((2, 2)) if downsample else nn.Identity(),\n",
        "            nn.BatchNorm2d(attn_dim_out),\n",
        "            activation,\n",
        "            # Expansion\n",
        "            nn.Conv2d(attn_dim_out, dim_out, 1, bias=False),\n",
        "            nn.BatchNorm2d(dim_out)\n",
        "        )\n",
        "        # Init last batch norm gamma to zero\n",
        "        nn.init.zeros_(self.net[-1].weight)\n",
        "        # Final activation\n",
        "        self.activation = activation\n",
        "\n",
        "    def forward(self, x):\n",
        "        # Moving in the shortcut path to the end\n",
        "        shortcut = self.shortcut(x)\n",
        "        # Forward threw the net.\n",
        "        x = self.net(x)\n",
        "        # Adding the shortcut\n",
        "        x += shortcut\n",
        "        # Perform activation\n",
        "        return self.activation(x)"
      ],
      "execution_count": 10,
      "outputs": []
    },
    {
      "cell_type": "markdown",
      "metadata": {
        "id": "49xWJZUi2AJa"
      },
      "source": [
        "### BottleNeck Transformer"
      ]
    },
    {
      "cell_type": "markdown",
      "metadata": {
        "id": "-Fgns9aX7ICz"
      },
      "source": [
        "![image.png](data:image/png;base64,iVBORw0KGgoAAAANSUhEUgAAAGUAAAHACAYAAAC72qYmAAAgAElEQVR4Ae19B3gW1dK/19vvfe79vu/+9W+5V/9WVJr0HjrSe1OaIEWK0gTpoPRepPfei3RQREAUREGQooggUkNCQgKJhIQy/+c3eWeZ9+Rskje88Aa+zfNsZnbK2d2Zc87MnN1396Fbt27RzZs3CVDjd0LLSDs2HZyDnIdALQdcNuG76ZhyZjta341n0s02pQ1TTugCNd9Ge0gLaNwmnF5aRtqx6eB4ckyBWg64bMJ30zHlzHa0vhvPpJttShumnNAFar6N5jnFZYawGUsbUxyiaWnp2Pg22kNExL0NEH84iIYaF15atLT4tnZsOpATWYFaDrj8Cd9Nx5TDvuhoXGgCNc/EsY8/kRWoaRq38W00zyls1pSGtRlLG9inxkBkBZpyQheo+Taa5xSfdcU4JtQGNHGfqjdS0mMYm2FNA5rtmDqy7yYn7Wl+Wjo2vo3mBfrMGOjhKVsGcCc03WZ627HpQFf0BWo54LIJ303HlDPb0fpuPJNutiltmHJCF6j5Npo3UjLjSNFzosbhTfkTXGBacmnxbe3YdCAnsgK1HHD5E76bjimHfdHRuNAEap6JYx9/IitQ0zRu49to3kjxRop7YWrrUehF0pMEajng8id8Nx1TDvuio3GhCdQ8E8c+/kRWoKZp3Ma30R64OuXA/gN048YNP2Pxju+fzQg2w6UlZ2szLR0b30Z7oJxy+fJlev755+nw4cNsM33BYkRNs+FCE6gdZuJmm2np2Pg22gMVU/r3708PPfQQNWvWjKcUnW7i4rFpmg0XmsDUdMw209Kx8W20B8YpUVFRPErglL/97W907NgxPweYBnQzthhJoJuctKf5aenY+DbaA+OU1atX05AhQyhv3rw0bNgwGjVqFMcWbTxtQDdcjCTQTU63K7IC3XRsfBvtgXHKtWvXeHoqUqQI/frrr4R9BHxtPDdjaboYSaDmmTj2NS0tHRvfRnugAj0Cb9GiRenkyZMcg2Ew80/TbLjQBELfDZe2hS/QTcfGt9EeOKeEhYXRL7/8wvbSF2waMC3DaV033GzTTU7oAvWxbTTPKT7LinFMqA1o4j5VZySJrikndIGab6M9MDFF5ubixYvTiRMn/OZ6XLhsIod9Gy40gW5y0p7mp6Vj49toIXXKhg0bqF27dkHdnnzySWrUqFFQ25wwYYLjQG1EcYzQBGpHadzGt9FC5hRkRuVeK0cdP3iLBk99n7eBU7qmgCYNskITPU0DT/gCbXJaR+OiI/DDiZ0pW84X6fz582mOPpuB7yun7N27l3IXzkFbjy2hbSeWJW/Hl6aEJg2yQhM9TQNP+AJtclpH46Ij8MQyatS2Jo0ZM+bBd0qnTp2o6+C3bxvQzTBiHIFaDrhswgfUuPAFCg/7NlxoAk8sowVbx1HBQgXot99+c6YxmbrSGglp8W2jKyTZV2xsLGXN8Qqt2D2Vjbrj5HLCBgOb0KRpvuhpmjhJ02xyoH36wwIavaBPimOaumizSJl89Pnnn/NokaxLIAyvMyo3XOQ030YLiVPmzZtHVRuUpZ6j3qFCpfNQoZK5eRs1P6WB3JwCeq0mFWjTwXkpjGrTEceAt2jbBGrWsT59cmQBDZ/dM4W+zSkDJnWhRo0a8khhD6h/YliB2ugat/FttHvulOvXr1PZsmWpdY9G7Ig1+2byCFn4+TgqXDYfbT40n94b1JIq1ilFleqWprlbxtDqb2fQG62qsSFLVCxEg6d1ownLB9AT/36EGrerRe37vUXN33ud8dHz+1DFOiWpXPUwGjTlfTb4kh0TqVK90lS2WjEaNb831W5aiV545VmCoWs3rcjHHzC5C5WvVYIq1CpBE5cPZIe98XZ1ertbQypVpQi16dGYXnzlObp48aJyRzIqhhWoHaFxG99Gu+dO+fbbbznAN2xTk/qM6+BMWdI7Z6wfQSUqFOQEYPq6YVS8fAFa9fU0ejbLU7RqzzRasWsK5Q/LxSNEYKM2NanJO7W4rbGL+tG6/bNp7f5ZlC1PFnZKuWrFaPq64Uyr+1YlGjGnJ9VvWY0+/mY6d4xlOydR3qI56LOji/lYeYpk546QJcdzNGvjKNry40LKlisL1WtehUaOHHn3nQJP2YLNndB0m2Y7CPCdB7Skei2qcupqBtu+4zpQs4712MBr982kHPleopW7p7LxMPWs2z+LCpbITesPzKZ8xXLSxu/nUMM2NWjI9G6s88GEzlSpbimq/WYFeuzfjzDtlZwv0ObDCxjH8RBHcHw4uUDxXDRp5SAemWh/y9FFlK9YDlq8YwLzMD1CB46asmYoFSiQHPBxjbLJNQrU169xG99Gu6d1SlxcHL2c7UXujX0/6shx5fOfk1NipMZdh7xN/T7qSPVbVmUDIhGAMdgppXMzzc0pI+b0Yn6WbM+ywzBaMLpg6NwFs9HH30wjHGvmhpE0al5vP6fMWDecylQtyrKIM3mLZadlX03mjqCdsnb/TCpWtgBt2bLFcUhaRk+LH3KnzJ8/nx2BnoeLx/xdvdFr9N7AllShdkl6891aPBLQe/uN70QN3q5ObXo2tjoFsQcJApyLqUickqtgNuo16h1q9X5Deu7lp2nm+hH0Tp+mHDsQe8pWC6NJKwZSgbBcNHZRXx4NOBdMmT1HtePYUadZJdp4cJ7VKSgmsWIAY8smhhWoHaFxG99Gu2cxJSkpicqUKUNT1wzlHokYgp6LfVTUszaO5GkCdAT2IdO70+SPB3Ns+fSHhTRhWX+OD1t/Wkzjl/Zn3UWfj+epaOaGETwVQXfpzkmcCGB0zflkNMcSHAeOGDG7J8citDFmYV+atWmU0y5GBDIxxCTwMXInLBvgFLcfLfmQPvtpMcerl3O8SOHh4U5sgeF1QHfDRU7zbbR75hQO8AWzOwUbDIgN04uJCw1Q46ac7Ot23HREVtrTOhoXvkDNE7xR21o0evRodkRaBk6LH1KnIMAj1ZULA3TDxSCAGrfpmDQ3HVMuPcd201m8bTwVKFiA4uPj2TFiWIHaERq38W20ezJSrly5Qq9ke5GWbJ9Anx1dxCkmoBuOFFR4GrfpmDTI23RMOWnfpNt0hSY6mE4LlczDFX5aRk+LHzKnLFiwgP72j7/SSzmff2C2//vE/6GGDRvC5hzwNXTDbQ6w0e5JSoyFvEuXLlF0dLQf1DSNazmNQ0bLyb7QUG3jJteePXtSlRM9aVv0bVDTTBxreDCqZFACNU3jNr6Ndk+cghNL6+RsfJywnLRALSftCm3z5s38MB7il9C0jEmztSk0ganpSNsiK9BNx8a30R4Yp1y9epXw0AQexvv73/9Op06dchwqxnMzlqaLkQRqnoljX9PS0rHxbbQHxikYJdWrV6esWbPyXN+7d+/71yl3GpTQU+TPhqeXps9DdAA1bjuO0BAf8FeiRAk6fvw44WFvrEibf9Ie6DZcaALd5HS7IivQTcfGt9HuSUosFyAnIDCtk4ecyAo0dcy2xSlpyZl8ad+EbnJyXM0XXU3TuI1vo3lO8VlXjGNCbVQT96mm2XFSa1N4uu0HJqZIwERK/PPPP7OhhIYLl03TbLjQBELPDTfbdJMTukDdpo3mOcUlg7IZSxtTHKJpaenY+DZa0J2Cg8iGlWE8/Z6YmMgbAq++CODCA5Qn5eVEpR3hiaz5ND3khIe0+Mcff3TOQYwHHbMdOY6cE85PzhcQ5y88aUfrmDTNs+HppQXNKbhgVLwRF85TdFQE3byeQBfCz9CZUyfo7OlfeAP91o1rzAO8kfQbnTt70uFD9kpslMNHG0mJ8czX7cTHxXI7aANbwm+XnTZKlShKu7/aTokJV5x2IBN3OSpFO2hf2gAeEx3pnC+OF37+DN24nkA3bybSrVvJL6rThs3UTsFyw7kzp+jc2eMUFfErxV+5QDcTY+jabxcpIS6CEuIjeUu8GkU3k2KZxzAplhLiknksExdBSQnRt/mJMYwLT9pJSriU3A7aSoqlG9cuOe1Ur1KafjrybXIb0PfJQMdsB+cofOCJV6Nvn29cBJ+/8G9dv0y3rsdRxIVzFBMT4/fbF3GUQLfRZePbaHeefd28Tgnx0XT50jlKunaJkk/+Ml8scFxUemhaVnS0QYSm5aRdTatVvRz98vP3fEytI7KaZsOFJlC3DVps1Gk6e/o4RVwI5+lNZ01whvzZ8PTS7sgpt24m0c2kZMPjhN0uxDSITc68eNkXWYFClzYBYy6eonWrF9EHvTtTjqzPUJtWjWjBnEl06sQhp0OIvFs7QjeheTyMKIw4zArh4eedzEw7xw2/q05B47fwMtDrV6yO0BciF5kWzcaHrugL1HLAN65bSmXLFqF67zanfkvmUMGSBajb9PHU/INuFFaqII0Z2Z+nIciaurY2hSbQpgNeQvxFir8c6cQaN0doerqdAkHbvJYaDTEkOuo8G8ycl3HCvMl8LRB0wQVqmsaFD6hxo+0FcydTyaplaNbhvbTxajRtSoihktXK0twf9zO+6uIZqt/xbXqvY6vb8UHa08fTuPAFap6JY2q+cfv5YpvNtH1tfBst4OwLqeW5c6d5yvAzvnnCclECNd9Gs/Eh55O9cPaYg4P26/GDFFaqEC04cYQdYHMKaGsvR1CVJnVo9Yp5/p1FH0/jcm4CNc/EsY/p+2bKVN9m7PTSAnYKnt06d+YE2TIpMaCfs2wXZ6PpCxY+oA+f+NFQjhUH9n7BNExL7ccNZYdghLg5Bbyp+76iurUrJp+ztK2Pp3HhC9Q8E8c+thtIm2/f+9GjQ+N3zSnRUVF04dwJx1i7d35CMBi2CeOGpMDTS9P6ogMo+OD+3enfj/+TXnjmMWrdsiFVq1Ka6rZrRm2Gfcjb20M/YJg9z8vUpEdHP1rL/j2oYKGcFBt9xjlvv46jjS3OEKh5Jo79pFi6GHGaMKXbjJ4hp+hApHE0Jn+CA8bHX6H4yxf4ZBAEYax32rxJ06eMpmmTRzHUeHppNh3oiv6IIX3YKVmef4J6vv8O1a5Znt7s2Ym6z5rAW7cZ4xnmKpCD2g7v70frNGEEFSmSK9kplhRdB3MYWe+nhoOHLTL8JF2MjODq37RZemxq6gScEiMN1icKp6xYOtuPpvlykWnRbHzuzT4jwTlwxoljB7i3Txo/jFoP/cA3fcU6sGS1cjT36AHalHCbNv6rz6jh69WTC9O74JSoiFNct2CkyJ905AfaKVERJ9nx4ryzp36ksJIFUzjAdMrqS+epfL2qnDqLLqAbLp1IoJuctAEYE3WGLvhqlqA4BR61zYVutJs3Ev2ymEEfdqPlS2b50biHy5wsUM/HNpqNDzmRFajkNqxdQiXKh9G4Lz6h9fFRPFp0Sjz/50NUrdnrNHhAD16K8Tsv1Y4fXY4j0E0OdN92NS6S4uKQhaX8kIO2r41vowU0faGBpMQEXk7BCaGX3KvpS45n9twdn6+n6tXKUsVGNanzhJGUt2guajdyANV7pzkXj3NnjuesS3q2WztCN6F5POFLew70LVje85GCGiU8/CzFRp91enAoRwoMhA0Ln19/+Sl9NGYQlStdiD7s8x5tWr/MCewixzCtESB8gekYKdzuzevBGyl6eGncNqxwv+H8+TM8h8q0khmcIsaODD9BL7/wJK1fszjldCrTTVrGFr5Azym+pXQxCKDGbYZVtP59u9Bjj/yNRwsXt6IrMqkZWGRNmJqOr12sjiclXQvNSMms0xdGyumTRyhn1mfZKU8+9g9CEuA49C47BdlXRER48Jyi82iNYyqTP8ExpSVcjaNE3IjKJIFeAu2Afl2pZFgeevrJ/6aSYXmpWuVSFH853EmjRU7OG/s2XGgC3eSkPcCgp8TaERoXR5i0UBWPbkaCUTBVYWRgGeWFZx+nnds38nbm1x88p9gMl16a7pGiA6hx6Z1Ck32tC6d8/dWWFMWhyGpdGy40gbptE5c2gz5SdMalcVv2BVpmKh5hOGfzBWgsWCI9ZroEbYtcCr7ImhC6QjNxX7vXfouiq1fjgxdTtCM07uYUjilXbz/ckJlSYhg6FE5hB3t1inoKRUaBrzc/EE7RgVzjGDXyJ7hfSpzJsi/0VszxoYgpHFtCtcyS2Sv6UE1fKBGuXbsavJiiR4fGZXRoWkZHCpY92rdtyjfDNHTDcdNMeBoHTeiCCxS5/zzxX9SgXpU05cx2RN+EbnKg48YbRknQsy9tdI3bnILgn5QU+Crxz0e/owIFs9BH87rT1KV9acqSPgzdcOEDahzypo5Jc9Mx5cx2zOPIvptcnYYlCSvQIXcKHJXR4vH1uhVpxsoPadeJRfTV8YUM3XDhA2oc8qaOSXPTMeXMdszjyL5NbtuRORRW7FWS4jToIwWGdkt/2QmKfyd1yppVC6hB03Js5C9/XsAQF27DhQaocTG40GRft+OmI7Ja14YLTaBuW/DhUzrSex1aOjVS9MXTFB5+zvp8sbZveu0c8CNGGS0eoyN/peLFctOnB6Y7hsZFfvHTfGfbcXQu42IQQI3bDGvS3HS03PYf5vJUKm2DJ7gJNQ/4zp/mU6VqhXjVgOuTpFi+6ZeYmPyYkdmR74lT8DMEPLIpVW4gxSPuUvYa0twxwM5jC6hCtQJUuXohqlW/BNWsX5zqNSpNcI4YIy0jQU5kBdp0tBzan7asn3MeomeDmgZ84aZhVKVScWeUiGPwQJ5tJNx1p9xpSoyAX7JMTsKcjAsUp6z+aryfYVdsG0PN2lShL48toFHTu1C/Ea1o3vrB1LR1ZXqrbRWqWTeMFm0aRit3jKWGzV7jabF9t/q04+g8GjWjC3Xq1YCavl2JatYLo7W7J9D6ryeyHGRbd6pNG7+ZQo1bVORROXJaZ3r9zTL0epMyNGlRT9rxw1w+Rpe+jahOg5LUbUBTP+e17lSLZk4be3edojMujcPD8id4RlNiLq6wVJ4YQw1fr0bTln/AARs9umK1gjR0UgeavKQPTVrcmxZsGMJG6NC9Pg0Y04Zq1ClGWw/Nopkf96dSZXMRpp4ZKz7gEbVq+1j6+IuPuK06DUtxLx40/h0ndvUc3Jw+GPk2fTjqbeo+oCk7fvqKD2jVF+OoUrWCtOar8fRapbzsnC0HZlDZ8nlo07dTqUTpHLRg41Cmlyybk7YenMnH2P5DcoA/d/ooZ11yXQyDWTxqR2hcHKFpd+yUpFhatXwuNXqrgp9TOvduSH2Ht6Q+w1rQuLnd2ClwRI4cT9OIKZ1YFk5B70c2tP7rSfRapfw0f8NgdsBb7apSgcIv0Zx1gwhOwRQJOTi7+8BmPFpqvVGCsA0e3442fjOZnQL9eo1KsSxiG2LFyu1jeTr9ZP90ppevUoA275vGOAJ85/YteJRoh+AZgd9+i+Ppy+zI2n42m9poAT3NAqdcCD9Hly+ddU4s0KdZ8FuSMqXy0aZvp7DxMVLW7JrAF40pTVLQ0TO60OtNyvKGEQWnIN5ABoarVqtI8jS2eRjrVK9d1HEKnIt2hk1Odsq2I7O516/dPZHj1rg53dgpS7aMpJp1irEsnFK+Sn4+lyo1i9CnB2YwvULVZKeAX7FqQdq7Z1uKURLylPjG9WvJ86lvATCQQC/JwcAP3qfeQ1s4MaVT7wbOSMGIWbR5GBv988OzCaNo8Ph3uMYpUuwVGjSuHY+YD0a2orbv1SbEkh6DmlHVmkV4VAz8qB31HtqcnTd0UnuOCejhrdrXpKET21P12sVo1uoBVLFaAfr8yGx2Oo7ZpV9jatWhJsGBlWsUIowUdAA4avPeqTw1Vq1c3HnK0gnwSbF036bEfBE+Rx77cR+VLpuHYHRMIZMW9eZt4sJeDBHoMRowQpJlhrBTEPwRc+asHcgOBQ8xAvKf7J9Gs1b356C+eldy4rDh60mEJAIJw8KNQ3l1YPXO8TxqJHYhTqConY02f5rP7SKeIGmAU+ZvGMLZIBIEDvD63opvhfqBcAp+bIqAD2NI+goDCK6h4JB9q21VNpTQoCOb0AA1LnyBwsO+DReaQMhtPTiLSpXMTQjwMtr1SMFzcEF9cAKBxpZfu9EyWjzqkYIL44DfvGKahhHjIDtatWNcSJyCZKPTu839pm3tlBuJMXT9eqLVjtq+bjaFjJYLqKJHoI+Njab4KxFOj8lITIFT8Cvb0qXy8fSCugUbpiMTmjTNFz1Ng7xNR2SFp3U0LnyBnx2cyWk7Arxfx5KbawLv1+LRGfq+eRkB/9VXn+EVZKwiFyjwYjKuocYho+VkX9Mgb9MRWeFpHY0L3wfz53+RKlcIs/9mUhwCGEyn6Dxa4xhO8id4MOoU5PfocYB4KQFyfDwihE1wDTVuysm+6OKn1DWqlqHD3+/2a8+Uk31pW/RtEDTEQKlL5Nxl34H3c/GIi9AXZsOFBqhxMYDQZF/a3LxhOT3x6N+pR9d2bEQ3OdHTfMFNKG3bdIR29UoEXbmS/PM6syOn1dGlw2u5gIvHixcj6HJM8s+1cVKBFo+pXaRpEOybNFNfDIOnIatUKM5Oee7pR/nXw6IrMqau5gtuwtR0pN2QF4/Byr5w8bzpvF9wDTVu0/HR8DuVbu+1obKlClK/Xp1o7KgBTjLiHAuy0p4bLnyBbnK+46LtB6JOCcgwYhyBppF8xrmKl/QkxVLN6mX5d5GIL4hZfg4xdW1tCk1gajq+Y3tOMY3kM4w4WpzCztCGNeRS8EXWhObxhC/t4SU60WcpMjIieHWKDjAatwUg0DJ6j17PzTCIzMc2XGhsOJ+s0HQ70oam3c23GOnj6GMzHsrsKzo6kuJiw50AnFkCvTjtf6VTnN88+nqw55Tkn3/Lm/Mw2+DPbabxsR2+TS7glNhzyu2p128KC+X05TklpVPiLodTTEx08O48Yvikd/USyywcUy6HO/l+RhckJYhL1sT7ktloqHHJeIQm+ypDCkX25aXEygGOYxXNc0pSLHkjxavoUy7NyBTmm9JCMVKwFhgdfdEaBnR4SG+YCCj7wgG84jFloA958RgZcZ7fQSzFmleneHVKmvdJHoiKXs95GrfNf3f6LLGT/uqU1oYLDVDjRvzILNkXn0cwbwdrR2jcc4r6BbJ0DJV66w5xOeYcRUVFBi/Qa0do3OYU0C4H6WkW56JsFyw0QI1n0pHiFY8uvVWcF4qU2HPK/wanBLrM7NUpKeuUuMsXKDb2UvAWJANxCmLK9aQEwmOaiAkomrw6JRPUKRFe8ejcyvbup7jc1xfDyMj1ikdvlfj2I0xe8agKO6N2CUVKjNckhvT3KfgdPR6MlrrAu59yF+6nBJJ9oeL3UuKUKXHQnyX2nOL/hQhJGAQikXDDJcnwnGIYSQwjhgtF9oUPiMpXIdDJ8YdZRf4EF6j5NlpAdx5RPGa2r0JkBqfwOXjPfaWc10M5UoLuFAwft2V68DTfu8ll/L5F0nFAr07JXHVKSH+y7Y0U+0gJ+f2UhIT45K9C+FaKveLRKx4z5dMsXp2SCesUzymZ0Cl4AYJ8FcIsGNMqFK3Fo055Ne6WJid/FSLKW5DU6bCXEtszIFm1DsXSPQpXr06RZ8F0b/XRPKfc4Z1HvJYcnzzH24yw4WNnJjRpmi96mpY3Vxbq2ultv3ZsclpH4+bxRg3rR9/s3upM1zIieXT4OkXQvwqh44jGbTHF7y1Gd1in7Nm1lUqF5aP+PbvTtLHjaPq4cTRt7NgU0KRpOeCyaTmNC1+g8LBvw4UmcOyQwVShTBhNnTTS9bcxOvuCDbUdNW6zqY0WklVivKqp0Rs1aOmcOfTr4WN06sjPvAmuocZNOdkH1HIa1zJazg236X7/1TdUtkRBwpe9ZeFTVqcBtVOCkn3plE3j8LD8CQ4YjDuPCXER9FrpInRw97eOMbWRtGE0LgYWmuybusIXaJPTOhoXHYHCa1i3RvI0pp6qEcc8UE459PXe+8YpjevX8pwiPVR6rEChA+pN+IAa1zKmrshputAECi81p+DbwfgqhMwoesbRuI1vowX0Yk8Epbg7+CqEZC54DVS5UoV5+jp56Cc2IowguIabVqyi2RMnOTzIrZi3gFbMm08nDvxAU8eOZX3RmTt5Mh3+eh8d33+Els6ZS6MHDaSpY8fR918lT5WQO/LNdzRq0EA6uvf7VI+NY8l5NapXk5CcyDXo7OuBqFMCccrgvr2pUL7stHfHl2ygn/Yd4mzo3VZv0U97D1LJovno5MEfHafVqlKOdn3yOfXs3JG6d3yX1ixeSmOHDqF6NSrTsX2HWW76uI+oTPGCNHHkSM8p0ssCdUqT12vRhJEj2IAblq2g+jWrUMc2LV2d8tUnW6lpw3o0b8pUxxEHdu5hh2CkNKhdndYuXkY1K5ej4weOOKNBRoWGgt/TkaLnPI3b5jq/OuUOnrqX7Cs9gX5Ivz700fBh1Kh+TTZel3atadKoUdSpTSvCqMmZ9Tlq1qg+b80bv075c71Muz/dRl9s+pSaNXqd6lavRO+0aEobl69i/a1r17NTYOxG9WvRppWrXdNxiUeQTS2m4CM/If0qRDCeug/UKQumzSBMV6sXLeERsGnlx45TihfOQxgFB778huNG9YplaNenn3NMwbR2eM8+HhWYrvbu2EWd27ai+jUq04BePXjEdWjd4o6dEvKUGF+FuNPfpwTqlIXTZ7Jhy5cqytPY5lVrHKeUCsvvxBP07NrVXuNR0qJJA9q+4RM2+NFvD1CV8qV4VLxWqihtXL6SPluzntYvXc6xBbEJo0EyLQ0FT22kBN0pmKZspb4bLRhvWw0kpowfMZxWLVjEsQEF3P4vdtO29Zt4eebYd4fpjVrVnFgBw7Zu1pj2fP4FrVuyjJq8Xpsa1KlODevU4Cxt8czZPEIghw3xZVCfXrRk1hzHsZLFCRS51GJK0O/R6ziicVtMAS2YFX16YgqMIr0V0MRNmhg8LTmTbx5H9kXOGym+2gW9VXqsQBhL4+IEoQFqXPgChWe2I3QTilxqIyWkdQqyr9iYKMJrxCW9zcjTLJi+Xktn8ehmJDGyQC2nceELFDqiJp4AACAASURBVB72bbjQBIpcpnVKsJ77woucK5YtRt9s25mmYcQ4AsVIYmSBwgfUuPAFCg/7NlxoAkWuZpVydHD/V05nfOAqeowy/KoYtcbRvQfoxMEfeEMhB1xDjZtysp8eHZGV9rSOxoXvwP1HaNaEiVS7ennC+/RlhrirTtHBXeO2QB+s4hEXhAvEO+lxn6Lya8V5q1QuLAU0aZAVmuhpWvnSRR1+anJaR+OiIxDtNaxf1fl4M85dluwF4iM/If0qRGRkeNC+CoFeF3H+OF8wbg2fPnmEcQ01DhktJ/tCO/XLYf4yxM7tG1OVEz1pW/Rt8PyZn/jnhOIAm1OCXqfo0aFx20gJVkqsL8yGCw1Q46kZBnJbP/mYP9XRp0eHNJ+kRFvStsaFJlDzTBz72ILuFBjarVBkJyg+5IJRPPrNy/rJFME11Lg8vSI02U+KJawS4EkWfNTmhWcf51HndxyR1bo2XGgCoeeG+9oMevH4oDgF309p37YplS6ej59muZffT7l86RzhYz+2zq3ta+PbaAHf5MqsIwWJA76XIs99xcWe9+/hd3GkYKoL6sN4Oo5oHB6WP8GRfUVHRdIV76sQKTKwoH6AQA8vjduGVbCKR9c5WuZuDTVu6+0GTUYK917RFRlATbPhQhOYmo5uN5g/r9OjQ+MyOjQtmHWKZC62LEdobFhfXSA0twxI+KH4yTZfi/fr4JQFXCidguk8qF+F0CNB424j5dKli4RPU4gRvJew3YU6RTtC4zangBaM+yniUHMqErqGGrdNeSYtFNOXVzyagVeCrS8whyLQe8VjJnRK0L8KgSnJlv660TJr8SipbihGCqbYkBaPyavE57xA71uMlJgW1OJRB3eN2wK9V6f4ryw7DoGDvDolc9Up7JxgOiWQmOItsxjLNL7ML+SrxPgqxNW4O3uaRYIyB0jbGpPQADVupL+sb9BCEei9lBhOEEeJQxTNc8od/mTbGyn2cuSBuckloycUIyVefRWCl6ICrP1MHc8pMgXKlGhCNTWmGNmiC+jdT3nAU2JdMGrcKx5vOx4jRApFjQst6HWKdoTGPafYHWFzCuLZjRtJofnJtlc82tPx2OizFBkZwkeM4uMve1+F0AE+6S682BPTlNsyvZmqQc5buk/5TuSgV/Q6jmjcFlPYSTeT/J7T9e7Re/fo/TqEzn4kAIfiHj1+BBUff4VnHHRs/Ll1ah/b4dvkAn7fV+K13wgviBEjeCMlE3xSMDz8LCHb8Jzic4bcgQzm/ZRAhpp359G788ijUUakQMQRjUtcEVooYgqm86Ska06cCKSjW2MKiOlNif1Gim/hLiM/2ZYVXRjSiutFQY1LfSA02VfthGKVGA/jhfSTgvwG74Rox5ieU7ziMXlKy2QjxSseM2FMCfqzxIEGJe8B79urx5Jk4KsQCQm/ha54vHo1jnASku14xeNdKB4Dyb68pXsjW9TZXzBvB3tOSX6BgpOaSxIhUKXbKVL4B9Epu77YTB/07kwf9nmPN8E11LgpJ/uAIpcnZxbq3L6FX3s2Oa2jcWlHIHhzZ01wSgDHecohiVej6dq1q9Z6T3f69NaDAT3NEtTpKzGG3qhXmboNaEojp3bmbcSUTimgSYOs0ERP08ATvkCbnNbRuOgIHDqxPYUVy0EXw39xTceDnhJrT2rczavXkxKSX+zpG94ZLR6/37eTypXPRzuPLaCvji/k7cufk3ENNW7KyT6gltO4ltFybrhN952udVP9VEfInRKsO4/4eEzf4S0dY2ojacNoXAwsNNk3dYUv0CandTQuOgLBW/bZKKpaqQThvolt+gq6U0JRp8RGn6GSJXLThj2TeYTsOrGIsMEAJjRpmi96mgZ5m47ICg/7O47OpaWfjUpxTN2e4NVrFaMvtm1wSgGpUQAfiOJx1fK51OitCjR1WV+q3aAkVa5RiOo3Lk1LtoxMYSAxokAxEvY7925IWw/NTpcO9ER37e6J1GdYS9p6cBYNGtfOoQtfQ8ERdzq+8xaPFO0Q4LJKjClf/hAK5E9wgaALLlDTAr7zGHclNnkYZ/C16vjK0Ot1K1G/Ea2ozGt5aM2u8dyz56wdSBWrFqRtR+bQuLndqE3n2tShx+u0dvcE+vTAdOo+sBn1H92GWrxTnWat7k/z1w+mvHmfo679GtPQSR1o4Li21GtIc1q4cSghBrTuWIvlYNRN306hjj3eoLc71qIFG4ZQuy51qHipHDRxYU/q0q8xO2Xmx/35mO90rUPLPh9N23+YSz0GNqMhE97lYw6Z+C4VK5adA77pFN4P5k0ueMotqIOn+cHIvvByTAT4Dt1fp4Fj2/rFlM37ptGKbaN55Gz4ehKNn9+dGjQtS8ALFn6JDT5v/WCqUrMIO6pchbzMg5FbvFONjT9q+ns8JS39bCSVLZ+HHd6sdWX6aG53WrxlBL3xZlkaO6srNW9bhdZ8NYEqVitIG7+ZQuUr56c1uybwMapUL0Sf7J9GYSWz0+QlvenjnR9RybI52Tkzpo5JzsJUSsz1y/1cPCLvxyhp+W4N+mhuNz+nILiOmNqJezWmJzipdNlcbHgYDzSMmkrVCtKWAzOoQpUC9Nn3M7nnj5vTjfnTV3zAPb5tl9r06qvPMA2jYuuhWYzjGFOW9KG3O9SkjXsms1MwShs0Lcd8xJnyVfKzIypWK0CfHZzJ5/hapbyEDlGpfBjhFb7sCO2Y+9UpuJiwYq/S+q8n8ijBFCVZDiCmk+GTO7KR4QD0YPR2jBTEndScMnFRL+ajd6/cMY51MbqgA8ei5wPHVGY6Zf6GIVS/cRnmb/9hDjsFo6ZS9UK0VTkFbVStUYS+3LHJzyn6qxDm7KJnmvTOSAHFFNx5vBB+ji5fytiDExLg4YAtB6ZT5eqFOFjDGe261KYmLSsSgjB6Jeb4bv3f5PiAHo0pC/EBIwR66PmYcqYt68cjY9Li3swPK5WDpi7tS32GtaA8eZ6j1V+Np/bdX6fOfRrS6BldqHrtojR9eT+qUTeM41KlaoV4tGH0TVnah4ZN6kBvvFmOtnw/gzuCjDAcC6N05LT3qH27ps4D34gnIc2+4Gl8FUKGLk4ovavEWFmuV7siYapAj4WBPz88m8bOfp96D21B6OmYOkBfsW0MfTiqNY2Z3ZUDPzKsUdO7MA8yo6a9x0Xn7LUDCQF4ytK+PN1Ad8HGoTw9IqZMW96PHYSgDf3+Y1rThj2TCKNh8Ph3aMbKDwkxCHrrv55EA8a0oWGTO7DDdxydxzpf/DSfzxfZF/Q+PTCNwsKSK3wJ+CF1Cg/NDD4hiQBftmxy4BWnwBg2XGiAGoe8qWPS3HRMObMd8ziyb5Nr+14dmj5ltDNa7lun9OvdiT4Y+XYKo9ouXmiAGrcZ1qS56ZhyNmNrmhxX0wRfuX0sVa5QnAM+Rgueg5MHJ8zaRNcf6NTyJ7hALRdQTMnoSEGALx6Wi9Z+PfGBcMqXPy+kKjUK0+6dn/BowUd+blwP0e9TEFMux14i/Jhf1oDSsyC5esU8ypXzOXqtQn4qX6mgA91wLadxyJs6Jg3pL+qgtORMvnkc2XeTQ1x5r0NLX3y9TLfwi4SbN7muQ+e14emlBbR0j0ajo6LowrkTATklMvwEnTh2gI7/tN8PaprGtZzGIaPlZF9okH01+3O0ecPyVOVET9oWfRvUNBPHa9w56bke51dk33OnxMXF0bkzJ5J/OJTJfke/7bO19Ngjf+MbXmwsffdQCj1Ns+FCEwg9N1zavJH8NVTbSNAOsvFttIBHCmqV8+dOU3TkKe4l6Zm+JIV2Ls7tIoWuocbFCEKTfbxWPT6S6taqwK9Vz/L8E8lfxLbIOefgZmzREegm56NHRZ4irAdq47vhNgfYaAEHemQJVy5fpiuxkRzk0lunIEuBczR0w7WcxiFv6ggNy+pvt2hAr2R5ilq3bEhDBvTgN3oLX6C0Z7YjdBO6yYGOt4afPX2CfvstnpMqOEP+bHh6aRlyChpHYLt1/QoXjwvmTqYrMcmVPqDGUf2nh2bTga7oC9Ry0i4gPqkRG3WacI/+yMGvKTryV8KKtDhDoBjdzdjCF2iTAw8j89yZ43TxYiQHdTjDZnRNt/FttAw5RQ506+Z1GjnsQyoZlpeqVizB3y4B1HiVCsV5Py2ajQ9d0Reo5YDLJvwXn3uCfji0x3VEpWZs7YDU5MCLijhFFy6EE1bOxbACxT6A+BO6wLRoAccUNIxN5kJ8nvXs6Z/p1C9H6GL4Se6t6LExF08xLjAtmo0PXdEXqOWAyyb8apVLceYFw/nFD+ybNFvcEJpAU4en4Hi6npTkOERsIVDbR+M2vo12x05Bo7ExMXTuzKnk4Rx+MnlpWy7KBzHc8Y0TgfiCgzYSCrCEuEiHDzmWUe1gX/QZ4p65YWz8FOKnI986ctd+u3hbxmdgfsxUnQ/LqOOgTdBwDH4ZTvRZ/mLfrRvx/Oto6ZgCxbACtSM0buPbaEFxCg6clJREsbExFBFxgWJjo+nmjWt062Yiw+tJv9G5Myfp7OlfHBgfd8nhQ+7a1SvM03KJCVf82oGO5gO/cT3Br53XypakXV9ud+TCz59xZOR8oi+GO3y0EXnhrN9xIAfauTO/0LmzJznbvHQp2m+GEIekZfS0+HfVKebB5WACr127RgkJCSQQqbWpA57wASEj+oDY13zgaEO3U6JECTpy5Igjl5iY6MiIHDqQbgf7+jiQgx5kwMNmHkf2pU0N3XA5hubbaEEbKTgQjAbDo8CMjY3l1PnSpUsUExPDG1JH84SEBwhZ6MuJAt64cZ11dTuJibedgfaSkhIpJib5OEWLFqXv9u2jG9evO+1A5tq1hBTtyHHknK5e/Y3PQc4FqT9kTDnI6034AqU9kRG6QM230YLmFDji/PmznLcj8F849wtFhp+i82eOU/jZE7zFRp+jW9fj6GbSlWSYeJkizv/i8CEbF4tbrT5+0hVKuhbLfN1OQlwU66MtbNd+i6LzZ4/TudM/U+FCBejLnZ9R4lXErOR2IBN3OSJFO5oP/PKl88754niR4Se5jZvX4+kWpuNbNykhwf/x1LQMnBbf6hSdnmkcjcmf4AJNOfxmJSE+imsDBEfJenSKqXEEUuxrmsaFL0Fc80wctcj2rRuoSaMG9FKWF+kPf/gDPfnE41SlcgWaM3MSXYk57xzL1JXjaLrQBPrxEmPo3NkT3PmuXr3Ko8W0hWmztPg2m95ZnYJhjB7kq9atF2JxgE1O2jChyArUfKxWN3+rCf3XI/+iUk2aUOcFC+nhP/yBGg8aTLW6dadHn36aihYpRD8c+tZxjK0d3abwBZo8dDqM7nNnT3ElD6OKYQVqR2jcxrfRMuQUNMRz//UETjdx4vrkNe52cenRga7oC5S2YZw3Xq9NT+fIQWO/208f37hJa27eoj/99a80ZMcXjM+PvEglGjWiF154ns6c/NH1HKVNG9Q0wTETREWcpAvhZ5x4o43vhtscYKNlKKYgKzl39jRPDTJVsQEl19cFV3ppNh3o+vS/2/sl1w1ynFUrFtF//9/HaMLhI+yQVddvMPzL3/9Og7fvcGhLLsdRtuLFqV3blslt2c7H7di+TiHnIMcWiCcjMXVLXBAIQ9vw9NIy5JTIiAscWPlk03uRtgvXNI1Lm4A+fPLEMVSkcEFasWwBO6dG9apUpX0HNj5GiZtTwOu3cRM9/vjjFBN12mlPDMvQ7diga56J89Qc5zjAZnTtIBvfRgvYKcjfz575hfg7ikmxtGj+DGrV4k3eWjRPhtgXXGBaNBsfuqLfqGF9evjhhzmQI8N67LFH6bFnn6EX8+fn7QUf/N3DD9NTr7ziR3s2Z0566KGH6Jfjh4LulJtJSJuTayGbgTPklEDnv/j4eDp/7oSzLN79/c7U5b0OtGHdCtqwdnky1Hh6aTYd6Pr0Pxo7gg37zDNP0eiRgylb1qxUrG59ajtlKm9tJk9h+Mc//5lqdHnfj9bgw/70+9//ns6e/smJURIfADWOkaH3U8OFl5hwmYtNW3zQ9rXxbbSAAz3fi/ZNKTgpOGX+3GmuFyIXKRegoRsuOjx1+KaQAf1709jRwyj6YvLNtU4d2lGeipVoZUIiB3UJ9H/9xz+cQC+0ZiNHUp7crzqPm+K46Tl2anKah9vj0dHJyzBwAv5sxk4vLQNOue53QffEKYkxdCX2dr0BZx0++A3965F/Ufs5c1J1yui9++iRf/+Hpk8d73fewXIK2rkY/itFRkRYHaEdlG6nQNA2F7rRbt5I8gt+3bp2onlzpvrRuIfrYG0GTOGZgVPoGmrcaGfxwtn0r0cfoTrde9LMU6c52Ev2teBiFHWaP5/+z5NPcuZlrkr7naM+j1SOl0LHdz7RkafpQvh5qx21fd1sChktl4GR4v8OyXsxUtx6Negb16+knDmz038/9ji9WrYsF48vFylCjz//PD366CM85aGmgWxq7cDgmi/7mmbi2McW9CcktYc0bvMqFhwvRUcmf3zT16NCOVK45/p6+Y5tm2jo4A8pS5YXCPEGdYy8wc+R0yPCDc/ASMG9oOvXE4M3UrQjNG5ziu1HQ5nCKT4Dnzj2Pf3lL3+m6dPGp5xOIePmCE3PgFO43cz0+5TM4pTDB/fQ8889y/XL/3v6PzRj+kT/muR+corODjSOUSN/gmP6Mr9HH+qYIvP6oQNf04Vzx6lE8aKcme384lOnlhIZQPRq2bfhQhOYmo60g9vYcXHJ915Mm6VlU7GtlrvvA70YRowIp/x8dL9f0BaZ1Aws+iZMTUfaDXqg1x7SuM2DoGEBTp9oZhkpYswHwikwtC2ou9HMN05klpgiC5dhYUXo2I/7Uwb1uxhTgv7GCc8pRlaWgexL/2iIZ5MAO7qpE9AqMQK98+3gzFSnqJQ2FCMFUyc+amObXXSnt/FttIACPZxivlbdiynJVX1Qvx2sPalxmwcze/GIHhuqkRLUr9dpR2g8mE5ZsmgOFSyYj7dCBQs40A2HrPA0DprQBRcocv/85z8oV64cacqZ7Yi+Cd3kChXMRx3ebZOcUGD6DGZFr9NgjcNB8ic4pi88knr1SoRThKVn+jrz64/0wivP0pxPxtDyXVNo2VeTGbrhwgfUOORNHZPmpmPKme2Yx5F9m9yyXZOpTLVifNcV5UGc+vimabO0bCq21XIBxRQ0kNE6pW6dGjRkenfacXI5bTuxjKEbLnxAjUPe1DFpbjqmnNmOeRzZt8mt2z+bsmZ/iSLOHb87q8TaQxq3efBOnILbxSUqFExhVNvFCw1Q4zbDmjQ3HVPOZmxNk+NqmuCdB7Sgzh3fcZZrgl7Rw9C2+OFGy2jxiAfncud5lZZ/NZm2HV/Kxl5/YDat3TeT1u2fxdva/bPo85+XOHyW88mKDhtdaD6n+dHAE75AixyOs+ngPD6PFPqQ17oK3/LjQspVIBt9/91XTjwJefHI72ZBjZKBOmXwwH7UvHN9vmAY5alnn6AS5QtSmWpFeatcrzSt/nb6bYPAGGIQgabBxODCd9Mx5BArmnWoG7BTJiztT2XKlHAcgozvcsw5iopK/pkdzyYBdnRTJ+Di0XmLUQaccvbUT/RSjudp4/dzeEQg+GOUcE/1GXvLj4uo6+C36dMfFtKnPyygLoNb0dp9s6jX6Hdp9Pw+1K73mzRzw0jWgWOHz+7BtGGzetDWY0to5oYRNHbRB9RzZDvq+MFbhNGH9mdtHEnv9m1GXQa1pI+/mc4jtO9HHZk3e9Moat/vLXp/aGta/e0MHkF9xnWgMYv6UbteTWjG+hHOOVZtUPb27W9Zugl19nVHxWNiDCHgD53Rg0fAs1meYmMPmNyVsI1d1I9jTov3XqeuQ1vT+0NaU4sub9DHe6bT08//m7oNa0Mj5vairK++SOv3z6ahM7pT+ZrFacrqIVS8fEEaNb8PwZg5879MHy35kJp2qEsN29SkjQfmUJ4i2Wjc4g9o4JQu9Pb7DWnB1o+oWLkCtHL3VMqR7yWWhyPDXitIK7+eSs+88BT1HtueBk97n9v77OgiwnSbNVsWwssaZIXYgcF8XaEO7hrHkJI/wYNR0W9cnxzwMS3hwtHzuwxqxduAyV3YKZjrYTBswNGzs+R4zpnKipXLT9PXDede3XXI29S2ZxMqVDo3jyr0/gata3A7U9cOpXLVitEnRxZQWLkC1KhtLXYM2hSn9BnbgRq1remMvJdyPk+zN4+mbHmy8PE2HZrHTkEbnQe24FvNsiLtOAT36u9np2D+zZvvVVq8fQK9mPVZ7vHIaiSzAYTRipbNT4XL5OGpDk6BkUQGWRwMXvetytS6e0Oav3UcvdGqmuOUtzrVZ1k4Dk6B3uZD82nUvN5Uq0kFqly/NOvA6b1GtaMm79ZOnp6OL6WXcr5AszaNpDxFsifrHZ5Pr+bPSkiDs+d9iW+g+TnD9/BEUJ2CUeCWaZkBCHJxcfgN+cUMBXpJDvCAQ9P2dei5V/4fTV83jBZtG8/bws8/4lgCo2Kqwvbmu7Vp1Z5pnBSMXdiPe3H2vFlozb6ZVK5GcRowqQvT8oe9Si27vkG9x7SnZh3rsZGnrR1GZasVpTV7Z1LDNjW4I8xYN5xyFchKc7eMZccv2T6BchfORjj2iNk9qUiZPDx9gYZYJCNl1PzeVLZsKbpxLeVnai/HnKfo6ItWO2r7ptfOAQV6NJrRlBhDXpxy6sQRyprzRaresDxVb1Seaqht6pqh1KrrG4SAj2Df/L3XuVejtyLYY2oavaAPG2zeZ2PpjVbVeQpEMG7UpiaNnNuLBk99n/lLv5hIXQa25KQCMavB2zWocbtaHPRX7ZnOwR2GRyxq3LYWNe/8OkFn/YE59Ha3htwGzqNl1wZUsU7J5ADvS3D4enyBPuQpcTCcggfj6terzRW+k/LqVNdIbzFSchVM7rmcqQlf0lxTV/gCbXJaR+OiI/DEMlqzdwblyJmVIvERggfVKbiwdauXUqkqRZ3g7WdsMQjg8aW08eA8Hg0sow1oM7ZPx689m5zZjj6mwXtvYEvq2L5tcm2SGZ2SlJiQ/O3gDNQpTi9LjKH4Kxcob/5cNPnjwbR8FxYosfg4KQU0aVpO9DQN8jYdkRWe1tG48AUu2TGBXs2fjQ4d2OPqlLjL4RQTEx2amOKXEt+hUzAnDxs6gF7NlY3y5n81aNuLLz1HufPlDFp7OLf69Wrxy3d0XNQxhfFQLt3fUfFoPK+L1BIXJCmm4Bpq3JSTfWkHzwznyJ6N9uz6nNsUXVNO9jVfcBNK2zYdoTG8n+uU1C7SNAj2TZqpL4aBHJ6KxC+26tetmTzVKIdrudTwtI4nfGnDgZ5Tbo8uMUrMxdOUPVtW+t3vfkd//OMf6btvdzoOFRlAbVQbLjSBqenodkNaPPK3g/GdxyDEFFy4tOOHS4YDqHHfyHFosp8US5s3fkwjhg0g3KYdO3oojRoxKPktSErG7xjpObboyjmYOj4+HjGKjIwITaAPVvHoZ1TbBQsNUOM2I/lo8qMg58EJrSt6gNKeGy58gW5yqs0HongMyDBiHIGmkcQ4Pr7jlDTkXEeNHEeg2Y6m+44ddKfolWGNy8qwScvoPXo9N8MgMh/bcKGx4dLI2Mx2HohnibXRNW5zCqavhIR4wscmxXDpeZrFNJzoakdpXPj3i1OuxkXQlSt4zCgE3+TyKx59Pdhzyl14QlKPDo3bRornFP+UWmYAhl6dcjsmiWFkygtFTPGcYhSAmcEp8utg2+yS1uxj0wn4JlfyKvHt+sH70VCs30dtYGRsCPomnl5awE4Jxk0ur0657TSbozynGMWn02F0keiGe8Xj7eAuQV3iCaDQQhHog/4ssQ5EGrcFIAy1+LjkV46LEbw65TK/gh3v/Id95M9mv/TSAvophFen3B6RepQyHsw6Bd6zBRsbzft5nbHKLPEIMJi3gz2n3PlPtjGVh8wpmL4iIs77fVLQq1Ni+emexMTb7+gPpKPbZqSAU+LrSQmEClZSR88psRT0+ymBetUrHlM+S+w5BfO3LuYk2Ppo3p3He/QKXF0cmrikplI3/a8sHi9n4Hf0puHEgKaBha6hxs12ZF+3EwqnJCZE07Vryd9V8YpH+cFOiJdZuHN4xWPKYCtxJhQxBaM5ZHWKV9G7JBmhdAqKR37fl/oevVenYIE2iq5ejbcuV+mSw1Yo2mgBLUjiAN5zX7dvIUiiEdKle88p9lVizykq05KeGuqUOOhO0XOexm1zHWjeMkvKzA9OiYgID01MQaCPlg8QeE9IOs9D44NpSUnJX2n1ikeveLzF318/f/4Mfy9EijUvJfbdJPPuPKac16WT/K+r6J2YEhvuLJ97IyWWrqqvQnDZEMBzD7aEyisefXHJXI2WfZ1um7ik5EFPiZEtwLvyJ7hAzede4H0Vwsm6PKe4/CRPDCM9OxT3U4I+UtD7bfOaG80rHlMmGSH9yTYC/cWLEYSXjkm24wX65JQ4qF+FCGSkePdTMuH9lGA75euvtlLLFm9S9epVfVsVCzRpkBWa6N2mPfLII/xaweQ23eVS8kXWHzZ4oy4tnDf99tsrbE/ShPImVzCdsmrFQno1Z26aOGYarVm6kdYs3USrLdCkaTngsmk5jQtfoPCwb8OFJnDBzKVUoVxl6vpeB7+HEPkWsDzeFEqnIKbwVyHiIu4opiRejaJSJYuzM04cPku/HEneBNdQ46ac7ANqOY1rGS3nhtt0j+w7Tnly5eGv4kks1U7RX4XgsiHA5MnUCUnxeBVvxcudh7776jA75OQP5wgbDGVCk6b5oqdpkLfpiKzwtI7GhS9QeJXKV6Uvv/jU+XGSpOKAQU+JdXGocXhP/gRnjwaheBSn7N99xDGgXLwJxTgCNR+4bMIH1LjwBQoP+zZcaAJFrmrFap5TxBhiHIFCB9Sb8AE1rmVMXZHTdKEJFN49dQp6v1uhyCND8SF3J1+FkPk4/nI45cmVm6cvmcNhBME1XL5wNY0aMs7hZr+22wAAGfpJREFUQW7GxLk0Y9I8+vngKRry4XB2guiMHT6BMAIRByaNnU693u9Hgz8cTl9v3+fIHdj9A3V7rxcd3HOUaW7HBl14VSpUo507PnFiqY4p9/VXITLilB5d+tALz71Auz7fywaCsfPlyU9NGjRlw2fPmoOOHzrjOK1EWCnavmkXvd28LXV6pysnE6OHfkRlSpalH787wXKjho6jPLny05D+I4LiFHbQ/X4/JZCRAqdUr1qLBn0wjA24ZP4qqvBaZWrWuIWrU7Zt+opqVa9L40ZMpMPfHmNHHPzmJ9aHA8uVLk+rl2ygYoWL00/7TzJdRpoJ0zNSgu4UHdw1LsFd05ASB+Ntq4EE+h5d+9KwgaOo4mtV2HhvNW5BY4Z9RIDo+Y89+jjXEaglIPPUf56iHZt389agXmMqGVaaalavS0vmrWT9dcs/oUqvVWW8WqUa9PHidSkyPokjgIKnFlM4Ewvms8Ta6BrPTE6ZPmEONWvcnOZNX0w1qtWiNcs2OU7J+kp2Ovztz3Rk73EeOWFFi/P0dfS7EzytAW5YuYVezZGbp0BMe2VKlKX2bTpR2ZLlqFH9Jo7hxQEaCp5pnYJAH4zf0Qc6UhDYVy5aRzmzv0qjhoyltcs3O07JnjWnE09gQIyMrRt3EkbBxo8/Y4Nj6ipYoDBX/3ly5WMnfbbhC8KoyZk9Fx3e+zOPHHGAhoKn5hT9VQh0bPzZOnV6aQH/5jEYS/eBxBRkXkvnraKj+3+h2jXq096dB2nL+u3Us2tfwiioXrkmO0ViwZsNm/GIgMFrVqtNFcpVIhR+k8fNoLlTF1Kf7h+yAyRW9Os1kOZNW+Q4VtoRKHKpZV9B/3ldoF4NxrPEgYwUGEV6K6CJmzTI23RMObMdU0f2RS61keJV9EYlbhr7gXAK5rlAike874vfAexbws7ITS58ESK9xaNMIwJhdI2LE4QGqHHhCxSe2Y7QTShymL547cuydB/Sr0IEa+n+2m8X+YPL2zbtcgwoF29CNyNBTm9aTuNaRrfthtt0UdsULlCYDu7fZa3og16nBDJSguUUVPajRw6l18pVoC8+3UPf7znKG5Y/gGuocVNO9tOjI7LSntbRuPAF7t15iN7v3JNq1KjGbyuSVQm9zBJ0pwQS6INVPOIiMFrGjxtJhQsVpAIFClDBAgWoQIF8KaBJ03LAZRO5V15+mfLn829HZExd0dF0oQksWCAftWvTki6Gn3T9/McDUTzCKbgQQMQXPA3CW9SZlNCkQVZoouejRUX8StmzZ6Ud2zb5t2PIpTieblPa9sG42PMcQ9nwqfw2Bg9O2OoQ3eltfBstoJtcSAj4qxAJmfMN3vPnTuPvpzRqWN9xuhhToHQI6RQmXfgC3eREDxBOxlM+sI/82YydXlpIike/eVlnM4JrqHG5Jy402U9KfuNpzpzZ6eGHH6Y//+lPdOjA1/agrHVtuNAE4hhuuO/4QS8e4b1AUuJgVPSuFykXr6HGxQlCk/2kWNq0YSX17d2d8ubJRQP796FhQwbcfgJFyQV0bNHTx9O4j+85BYawGCbJN6XKTyF0LYWpyNm0rg0XmkDzeJp+t5yiA5HGbfNfZo8pmN9D8Sxx0L8KEcj0hTrFuZ/i6zEZqej9errueYJrqHHp8UKTfdWbZaTwyEhFLgVfZE2o2k6ho49/v9959JxyO47b4nlAKXEwi0dJKdH7TFxo3DNVTWPKyT6g6IRi+uLzuN/vPIoBtTE1Lvz7xSk4T3nqPih1ig7uGncL9M4qsa8He2/wvgtPSAYS6DH/ZdY6ReJUKAK9V6eY2ZBkQL6syXNKUix5KfFdeC+xjiMad4speJolIf6ik+14McX7KkSaq79eSuy9l9ipsUL2le1g3g6WGkSyJt43lziwb9IyYaDncw/VMotfRe8zlhfoYykp4RIF9asQOrhr3BboQQvGw3joWbw0oZZH7ueKPugP43nF451/1MYrHjNhTPGckgmdoqcvnuIDvMVu6gS0dI+1L+d39N6CpBMX5asQMK782fD00gJyil/25TnFcQonLd79lNvZm5nFPRAVPYaU7ZakjeYVj/YnaUJePF6MDPfe9yW3C3ww6F+FCGSkeDe57CMl6CmxruI17pYpeBV9ynimU+J7nn3BUZ5T7oFTvOnrzpdZ9EjhjhtA8mRLqAKuU/irEHiDt1enOHUKPtt7/XpiaH6f4hWPtx/6k/rIgV7xmHJel5HrFY/e0yy3f2IRyjuPzpeGvDuPjkOC/lUIL/u68+zLKx6NW8gSaEMZU3RK7BWPmeSbXJ5TMuFIwU+25ZOCQRkpgcQU1Cnet4NTfqojpEv33v0U+yrxA+WUxQtmUuVK5alK5Qq8Ca6hxk052QcUuX/9619UqmSYX3s2Oa2jcWlHIHjduna+/Zt8eWLTuKfyQHyPHi/MCQsrTAOndKUZ60fwNn3d8BTQpEFWaKKnaeAJX6BNTutoXHQETv54ML2U/Xk6deJwcl2S2ZyCmHI5Nprwu3F5xjejj63ipTaFSuambceX0rYTy5I3wTXUuCkn+4BaTuNaRsu54RbdVt0a0gf9ero6BV+FiImJtt5W1zHbtiJso4Xs3SwtWrxJvce0v21MbSRtGI2LgYUm+6au8AXa5LSOxkVH4IlltOyrSZQrdw66fOms0xk5jvimsAeieIwM/4Veyf4ird03k0fIjpPLCRtGjAlNmuaLnqbJqNM0mxxoW35cRNPWDktxTFMXbZatVoxWr1rMo0UKVoEPRJ0yacJoqtu8Mg2d0YNKlC/I01jJioVp6pqhKQzk5hTQm7SrRZsPzU+XjjgGest2TqJ2vZqwbt9xHVLo25wyfE5PqlmzGo8UcYbAkDvF+SpEBm9y4ad5YWGFqPuItpSnSHZasWsKj5AZ64ZTwRK5afPhBfTBhE5Uu2kler1lNVqyYwKt3TeLWnR5ndr3e4uqvF6Gxi7qRwjA//5/T1DzzvWp27A21LF/c3q7W0OavHIQ1X2rMtVsXIHGLOzLBl+5eyq90ao61WhUgSatGMj4Szmfp6EzutOb7WuzzOiFfan2mxWpTrNKNHPDSPr0h4XUossb1GVQK6raoCyf7ys5X6RTJ444N7fEKXhZdFRUZGje94VAfyH8HL90LKOBfvvnyQG+ybu1qcfItn4xZdPBeTTnk9FUpGw+Wrd/FhsV0waM+uxLT9HcLWNp9ubRPLLWH5hDeYvmoNXfTqeGbWpQvRZVaeP3c2jwtG60eMcEWrx9AuXM/zI7vEr9MjR6QV9atG08AYcMnL581xQqUDwXt5/c1gyau2UM09bsnUlw3Pil/enjPdMoW54s9Oa7tenDD3o5q8M6rtzXKXHLFk05wKM3wzhO1uQLtn0/6kjNOtZjYyLm5Mj/MhsNxsPUA2dhRK0/MJvyFcvJjoBTBk97n/kj5/Wm2m9WYCc98e9HmJb11Rd4qoI+jjd6QR/mr9ozjR0waeUgqlC7JMsizuQrloOW7JhI+cNyEToKdDCqZ28exQEfr0v0cwgCfqjup9xpRY93PL6U7QVCL+wxsh3VbVbJccrnPy+hAZO6EOb4hq1rsIFWfT2NchfOxk4pVDo309ycMmJOL+ZnyfEcrdw9hY/x7EtPM+3V/Flpzd4ZfCzEk1Hz/Z0yfd0wDuRwGqatvMVycNxByq6dsnb/TCpVpQitWbXk7jpFP+ulceTX8if4nd6jnzJ5LNV5qzIbClNN0bL5qUHrGtR/Uheez2s1qUBwRJ4i2bg3v9WpPjVtX5tphcvk4bl//f7ZPH1tOjSPjTdibi96o1U1Gjm3N/Oz5spCw2f1oLY9m9BTzz7BUxbiTuN2tXiEFitXgMYv+ZCKlMlHGCFi+EIlcnGM6TrkbapUtxSPQHQEJBJwFqY3dIjhs3tSrZrVUsSVoP4QVTtC4+IITUOhk9GvQuD99oULF+A5GxeJDOeznxZzr31/aGuasKw/bT22hOnLv5rMIwkG3/rTYg7+CMrQ2XJ0EQ2Z3p0wsmauH8FJwfhl/blng4+Y0G14G1q8bTwnAx8t+ZDbhTF7j3mX0/DPji6iDyd0ZqdIu0gmeo9+lwZM7kJbflzIxwUPx8f5YqrF1AYnvZTjefr1xGHHMUEP9NroGrc5BbSMPoyHV5LnL5aTDStOsaWemgY5kRWo+cBlE76bjilntqP13XhCb9m1AfX/oLdTs4Q8Jc6oU5o1a0x9jJpALhJQ49pAGjflZN/UtemIrPC0jsaFL1DzBMcUmzNnNoqNPsOj5b50SvTFU/TiK8/xcgUC6SdHFnBAdcOFD6hxyJs6Js1Nx5Qz2zGPI/s2OdRSJSoUpHWrlyY75eJpuhB+Pnh1ip6yNG6bvhBTEq/9Rvg5GVJCFE/peTfL3FmTKWv2lyhX3pyUO19OB7rhWk7jkDd1TNoT/36Msud8JU05sx3zOLLvJpcjZ1Zq1bIp2+BKbDjFxl4KnlNgfNtKpRsNtz2R2gZSPOJ2KXTwvngN3XAtp3HImzqaFnH+BOEr25s3rUpVTuuYeFrHEz70oiNP+VLjy4Tsy2YzbV8b30YLeJU4KiqKIs6dCMgpTqEl9yIEouiy4UID1LjcWBKa7PvaWbxwJr9WvW6dGsnGcpFLcT76PERHoOaZOPaxXb/CzxHbDHxPnBIXF0dnT59I/mxFJnpC8vKlc/z27oceeoj+9Mc/0rd7vrjtUDGeaVSb4YUmMDUdafdGQnCdouOIxm0xBTQUkOfOnuaf2KU3psjCncQhgaDbcKEBatxsR/YBMWW937UTPfbYo/R+l47Ut3c3wlu9tQxwac8NF75ANzmh4w4qlli07dxwN5uysvriXUA/hZBGExMT6eb1eCfQjxsznM6c/JFOn/yBocbTS7PpQFf0BWo54LKdOPY9yz755BN0cP/u5BfFJcbcVafgK3yYNa5evRp6p3BPuHmdbl2/QiOGDSR8+AX32zPD9l//9V/8RQjpyYB6S2sECF+g2Y7QMULOnTlOFy/eXrKXTnvHIwUN2QJUumg3r1NSQgwlxEdS4tUojjOAGsfJp4dm04Gu6AvUctKupiW/2PO75ACs44LM/5pmw4Um0BJTEq9G07kzP1N4+HnCIq3YSuAd2fTWLQo4+8IB9UHxnqvzZ09wdXvjmnpQTS5KoL44G83Gh5zICtRywGXz8fH7lGM/3k2n4JhxdCk6ijCNa1tkGqegp1y6dInOnTlFZ08f5/rA7zMZiTEccNHTMaKkx5vGRG8XPiB/esNwiowIkePjGE7BSDly6Bs+DuQcp/rkoINz0OfDMuL0xBh+xgu6uEt69UoExfHPCTENxtPNm8mOkM6ZKZ0ivePatWsUGxtDkRHhdPPGNd5u3QRMoKiL5+nsmV/ozOkTDCMjzhJ4wodMRPgZhw+56Ci0k8Ab5G5c/43Onzvl187l2Ci/dq4nxfOH177cuc2Ri4+/5MignYSrl5mnz+dawhXnODhm3JVo51wgd/bMKbpxPfmbW3K994VTdI/ROC4CwzwhIYGzFEA4UC5KLhIyyGJELikpiedq4QNCT/iAGKVmO8WLF6fDhw87ckjhRQYQ+9DV7aBtfRzI4FxwPJyH7Ti6Ta0rdKFhX3CBadHuOKbYDmQe1HPKTb/YY9oH+5p2T5xiHjQ9jpSTFFmBQpc2BQq/RIkSdOzYMb+LFBlTV3Q0XWgCNc/Esa9paenY+DZahopHnYfjpOTPhqeXZmsTuqIvUMvJcTWtZMmS9PPPPzNL64isptlwoQnUbZu42WZaOja+jfbAOaVUqVKeU2ye1j3KxrfRbDqQE1mBWk56qqbt3r2bsGiqaTY5ky/tm9BNztam6Lrp2Pg22gMXUzBHyzwtEBcum6bZcKEJhJ4bbrbpJid0gbpNG81zikuwthlLG1Mcomlp6dj4NprnlMzolDud/9BT5M+Gp5emz0N0ADVuO45Jc9Mx5fTxNJ7W8YQv7dl0NU3jWldwgVrugcu+cJFyoQJxwfKnaTZcaAKh54abbbrJCV2gbtNG85zis6wYx4TagCbuU3WcJrqmnNAFar6N5jnFZ1kxjgm1AU3cpxp8p+AkbBnAndB0m+ltx6YDXdEXqOWAyyZ8Nx1TzmxH67vxTLrZprRhygldoObbaN5I8UaK+2qprfegF0lPEqjlgMsmfDcdU85sR+u78Uy62aa0YcoJXaDm22heneJzrBjHhNqAJo59TRNdTdO4jW+j3XOnLF68mP7zn//QSy+9xFuBAgUINNvJ44Sx/fTTT7R69WpHZs6cOXTx4kU6f/48vfDCC/T111/7jSi5UIFoWzZNs+FCE9i6dWt65513rPpmm6Kjr0XjNr6Nds9jysyZM+kvf/kLHdh/gA4ePEgtW7akJ598kq5cucKGPXr0KK1du5a+/fZb3j937hw1aNCASpcuTd9//z1t2rSJnxeePHky/fDDD/T3v/+dvvjiCzZaeHg4rVu3jvbs2cP7eMQW+5GRkaz3448/Mh1hJPzCBVq/fj07VIyLO47ffPMN6/z6668cberVq0cNGzZkvZ07dzJfsi6B0MefQDfcxrfRQuYUGAgOaN68ORUuXJhvu8JhGEWNGzem5557jnr16sWOwGjImjUrrVy5kgYMGMDPC8OZe/fudZxy6NAhevbZZwk9O2/evDRmzBh2LDpAnTp1qFChQvT444/zMXHs559/nlq1akX58uWj4cOH823iPn368Mh744036Omnn2YHiFNWrVpFzzzzDJ+POEOgGFbgfemU3/3ud3zxMPb//M//UM+ePfl+eJYsWRjHkJ4xYwY7CL2/bt269NZbb7ENTp48yU6BYc+cOeM4pXfv3jziFi5cyI7JmTMnoWfj2eIdO3YQRtw///lPdmz//v3ZQfPnz+epCQ7HaMK5TJ8+nXs8bgGcPXuW4JQ8efKw/LJly/xGw11zCrxrm9fuhKbbNNuBsf/617/ydIUHEzCNwVjoiY8++iiNGjWKzwcxBD9rgBPQ05s1a8YG+eWXX9jQmLpOnz5Nf/vb39jomPcxyoYOHcobprcvv/ySZTEV/fbbb4TXTi1ZsoQ6d+7MDhwyZAjLTpw4kaezhx9+mJ2G8z9x4gRh+kOHwAjLli0btW/f3s9WkEvtWtPDN+0DnXse6OGUP//5z9yLd+3aRaNHj2bDIlbUrFmTcOcQgb1Ro0ZUpEgRfqoE08lrr73GvRmOQO/HVIbbvuKUuXPnsnO/++47GjFiBPXt25enL8iaTlm0aBH94x//4Olp7NixPDrxdEvu3LmpadOmrIc4hwQETkFM27p1K7ePTiTGFiiGFQi6DU8v7Z47BSMA0wHmcmxwAno1giymKsQExBg4BaMEF4KAHBYWxnECxkM8KVu2LGGKKVq0KMERoKPnQw5TDh6ewGhCfEG74CNZ+PTTT3mqRByBLEYhpkIc58iRI+wE0IcNG8aPFnXr1o1jG84PI6xTp058ruIQ7QCb0dPi23TuuVP0SbrhcqKAGoe8qWPS3HRMObMd8ziy7yYn7Wl+Wjo2vo3mOcVwtBhJoDa6iYtjRFagKSd0gZpvo3lOyYxOudOcGl6XPxueXpo+D9EB1LjtOCbNTceU08fTeFrHE760Z9PVNI1rXcEFarm7XjzGxMTQyJEjadCgQTRw4EAHbt++HefhGF3jcqKAGmcFQ0fTTp06xdncZ599xmTRFRlATbPhQhOYmo60K7IC3XRsfBvtrjsFuX6XLl24ckcaiicY27VrxxlVWiePE5aTFmjqaMMgY0O2tW3bNiZrHS2XGi46AiHrhpvtuMkJXaBu00a7ZzEFFfNTTz1FkyZN4owKa0+oupFi4vlfFIXVq1dnowKiWkdBmSNHDh5hWMBE8YaCE8szlSpVYtkqVapwKouiEEUoCkQsxezbt4/Kly/Px6hYsSJhGQYP6eGp/A4dOlD27NlpxYoVXBT269ePsJowbtw4rvCBo0ZBEEZhWbBgQU7TUd+gkyGVx3ljMRVGlWAtUNM0buPbaCF1Cipl1AlY5V2zZg117dqVV36xLoUCcOnSpfSHP/yBsHQybdo0+v3vf8+FJdbEYBA4EmtckEMdAkdhtMTGxnIthHU1FJsoAMuUKcM/boIzUIdgNC1fvpzbBIQsnIrzwDnBEVgwhZO3bNnC9Q1WGFCIYg0Mx8IyTlpGT4uf6Zzy2GOP8bIHThyGQUWNohA/JsVaFoz9pz/9iYs4jBxU5xgBKBphXFTdGA1YGcDFYYRhjSw+Pp6wviZrVVOmTGFZrH9BD0UmjomRAkejMMSaFzoDfpWGwvHll192+BitODes1cERcMrUqVO5jbSMnhbf6hQ9v2kcjcmf4ALTkrPxcf8DK6+o3tFOREQErymhwseUhCUVVPP4sQ6mOSxSwqhY5cUf7p3AKVgZ3r9/P0MsedSvX58dA8PWqFGDezzawyhE1Y6/Hj168DSGc4CBMbrwh6WaP/7xj4zPmjWLpzCMMoxSOOXzzz/nDoLjQRfyWB3AajSWdeRP7CIQdBueXtpdD/RyIqk5Bb0FC4pPPPEEVahQgdfAsAAI49icgptcWNnFtAQjY/0MbYhTgKPnY/kf8QQQ8QkxJRCnwLm1atVih6LT4JYCruOBcQp+poY1KgR4OAr7mIqio6O5w2EVF/uYpnDDCze0sHSOG1b4g4EQezA1YVQcP36cFxSxKIl9tImFTKzuAseGmIObZWgTf5BDu+jt+EPQlvYxcjHy8FM6jErg+MPIBY5EAeeA88bIQeIifzgW/gS64Ta+jcYjRRr3YOawgOeUzOEHv7PwnOJnjsyx4zklc/jB7yw8p/iZI3PseE7JHH7wOwvPKX7myBw7nlMyhx/8zsJzip85MseO55TM4Qe/s/Cc4meOzLHjOSVz+MHvLDyn+Jkjc+x4TskcfvA7C88pfubIHDv/H4aWgo6FDcrpAAAAAElFTkSuQmCC)"
      ]
    },
    {
      "cell_type": "code",
      "metadata": {
        "id": "iOg-Kw1r0lAG"
      },
      "source": [
        "class BottleNeck(nn.Module):\n",
        "    def __init__(\n",
        "            self,\n",
        "            dim: int,\n",
        "            fmap_size: int,\n",
        "            dim_out: int = 2048,\n",
        "            proj_factor: int = 4,\n",
        "            num_layers: int = 3,\n",
        "            heads: int = 4,\n",
        "            dim_head: int = 128,\n",
        "            downsample: bool = True,\n",
        "            rel_pos_emb: bool = False,\n",
        "            activation=nn.ReLU()\n",
        "    ):\n",
        "        \"\"\" BottleNeck transformer.\n",
        "\n",
        "        Args:\n",
        "          dim: How many pixels in the image.\n",
        "          fmap_size: featuremaps size, How many featres to study?\n",
        "          dim_out: BottleBlock out 1*dimention.\n",
        "          proj_factor: Projection factor.\n",
        "          num_layers: Number of BottleBlocks.\n",
        "          downsample: True if to perform image downsample else False.\n",
        "          heads: Number of heads in MHSA.\n",
        "          dim_head: Head dimention.\n",
        "          rel_pos_emb: True if performing Relative position encoding else Flase.\n",
        "          activation: Activation function.\n",
        "        \"\"\"\n",
        "        super().__init__()\n",
        "        self.dim = dim\n",
        "        self.fmap_size = pair(fmap_size)\n",
        "        layers = []\n",
        "        for i in range(num_layers):\n",
        "            is_first = i == 0\n",
        "            dim = (dim if is_first else dim_out)\n",
        "            layer_downsample = is_first and downsample\n",
        "            fmap_divisor = (2 if downsample and not is_first else 1)\n",
        "            layer_fmap_size = tuple(map(lambda t: t // fmap_divisor, self.fmap_size))\n",
        "\n",
        "            layers.append(BottleBlock(\n",
        "                dim=dim,\n",
        "                fmap_size=layer_fmap_size,\n",
        "                dim_out=dim_out,\n",
        "                proj_factor=proj_factor,\n",
        "                heads=heads,\n",
        "                dim_head=dim_head,\n",
        "                downsample=layer_downsample,\n",
        "                rel_pos_emb=rel_pos_emb,\n",
        "                activation=activation\n",
        "            ))\n",
        "\n",
        "        self.net = nn.Sequential(*layers)\n",
        "\n",
        "    def forward(self, x):\n",
        "        _, c, h, w = x.shape\n",
        "        assert c == self.dim, f'channels of feature map {c} must match channels given at init {self.dim}'\n",
        "        assert h == self.fmap_size[0] and w == self.fmap_size[\n",
        "            1], f'height and width ({h} {w}) of feature map must match the fmap_size given at init {self.fmap_size}'\n",
        "        return self.net(x)"
      ],
      "execution_count": 11,
      "outputs": []
    },
    {
      "cell_type": "markdown",
      "metadata": {
        "id": "wu8yYZJR2QPv"
      },
      "source": [
        "### BotNet50"
      ]
    },
    {
      "cell_type": "markdown",
      "metadata": {
        "id": "f2C0A2bQ7ORX"
      },
      "source": [
        "![image.png](data:image/png;base64,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)"
      ]
    },
    {
      "cell_type": "code",
      "metadata": {
        "id": "Bp33y5Lo0uu1"
      },
      "source": [
        "class BotNet50(nn.Module):\n",
        "    def __init__(self,\n",
        "          dim: int = 1024, #256,\n",
        "          fmap_size: int = 14, #56,\n",
        "          dim_out: int = 2048,\n",
        "          proj_factor: int = 4,\n",
        "          num_layers: int = 3,\n",
        "          heads: int = 4,\n",
        "          dim_head: int = 128,\n",
        "          downsample: bool = True,\n",
        "          rel_pos_emb: bool = False,\n",
        "          activation=nn.ReLU()):\n",
        "        \"\"\" BotNet50.\n",
        "\n",
        "          Args:\n",
        "            dim: How many pixels in the image.\n",
        "            fmap_size: featuremaps size, How many featres to study?\n",
        "            dim_out: BottleBlock out 1*dimention.\n",
        "            proj_factor: Projection factor.\n",
        "            num_layers: Number of BottleBlocks.\n",
        "            downsample: True if to perform image downsample else False.\n",
        "            heads: Number of heads in MHSA.\n",
        "            dim_head: Head dimention.\n",
        "            rel_pos_emb: True if performing Relative position encoding else Flase.\n",
        "            activation: Activation function.\n",
        "        \"\"\"\n",
        "        super(BotNet50, self).__init__()\n",
        "        layer = BottleNeck(\n",
        "            dim=dim,\n",
        "            fmap_size=fmap_size,\n",
        "            dim_out=dim_out,\n",
        "            proj_factor=proj_factor,\n",
        "            downsample=downsample,\n",
        "            heads=heads,\n",
        "            dim_head=dim_head,\n",
        "            rel_pos_emb=rel_pos_emb,\n",
        "            activation=activation\n",
        "        )\n",
        "\n",
        "        resnet = resnet50()\n",
        "\n",
        "        # model surgery\n",
        "\n",
        "        backbone = list(resnet.children())\n",
        "\n",
        "        self._model = nn.Sequential(\n",
        "            *backbone[:7],\n",
        "            layer,\n",
        "            nn.AdaptiveAvgPool2d((1, 1)),\n",
        "            nn.Flatten(1),\n",
        "            nn.Linear(2048, 2)\n",
        "        )\n",
        "\n",
        "    def forward(self, x):\n",
        "        return self._model(x)"
      ],
      "execution_count": 12,
      "outputs": []
    },
    {
      "cell_type": "markdown",
      "metadata": {
        "id": "9Rnlk_ni3BNP"
      },
      "source": [
        "## BotNet50 train"
      ]
    },
    {
      "cell_type": "markdown",
      "metadata": {
        "id": "0aU4Tmz143JX"
      },
      "source": [
        "### Data load"
      ]
    },
    {
      "cell_type": "code",
      "metadata": {
        "id": "xUyQrjVt9TpU",
        "colab": {
          "base_uri": "https://localhost:8080/"
        },
        "outputId": "a3150f3c-4a71-4f0d-824b-772a414f6afa"
      },
      "source": [
        "!git clone https://github.com/GalRabin/botnet50.git"
      ],
      "execution_count": 13,
      "outputs": [
        {
          "output_type": "stream",
          "text": [
            "Cloning into 'botnet50'...\n",
            "remote: Enumerating objects: 30, done.\u001b[K\n",
            "remote: Counting objects: 100% (30/30), done.\u001b[K\n",
            "remote: Compressing objects: 100% (30/30), done.\u001b[K\n",
            "remote: Total 5981 (delta 17), reused 0 (delta 0), pack-reused 5951\u001b[K\n",
            "Receiving objects: 100% (5981/5981), 303.00 MiB | 46.46 MiB/s, done.\n",
            "Resolving deltas: 100% (51/51), done.\n",
            "Checking out files: 100% (6004/6004), done.\n"
          ],
          "name": "stdout"
        }
      ]
    },
    {
      "cell_type": "code",
      "metadata": {
        "id": "oDwKKSg4EV_7",
        "colab": {
          "base_uri": "https://localhost:8080/"
        },
        "outputId": "ca394f45-2d60-43f2-88da-d658a3bf226d"
      },
      "source": [
        "data_transform = transforms.Compose([\r\n",
        "        transforms.Resize(IM_SHAPE),\r\n",
        "        transforms.ToTensor(),\r\n",
        "    ])\r\n",
        "guns_dataset = datasets.ImageFolder(root='/content/botnet50/gun-data',\r\n",
        "                                           transform=data_transform)\r\n",
        "X = [im[0] for im in guns_dataset]\r\n",
        "y = guns_dataset.targets\r\n",
        "X_train, X_val, y_train, y_val = train_test_split(X, y, \r\n",
        "                                                  test_size=TEST_SIZE,\r\n",
        "                                                  stratify=y)\r\n",
        "\r\n",
        "train_dataset = list(zip(X_train, y_train))\r\n",
        "trainloader = torch.utils.data.DataLoader(train_dataset,\r\n",
        "                                             batch_size=BATCH_SIZE, \r\n",
        "                                             shuffle=True)"
      ],
      "execution_count": 14,
      "outputs": [
        {
          "output_type": "stream",
          "text": [
            "/usr/local/lib/python3.6/dist-packages/PIL/Image.py:932: UserWarning: Palette images with Transparency expressed in bytes should be converted to RGBA images\n",
            "  \"Palette images with Transparency expressed in bytes should be \"\n"
          ],
          "name": "stderr"
        }
      ]
    },
    {
      "cell_type": "markdown",
      "metadata": {
        "id": "kI7hgoeh4_Ff"
      },
      "source": [
        "### Train"
      ]
    },
    {
      "cell_type": "code",
      "metadata": {
        "id": "DPNxaxw2QOtX"
      },
      "source": [
        "def train(net, optimizer):\r\n",
        "  start_time = time()\r\n",
        "  train_loss = []\r\n",
        "  for epoch in range(NUM_EPOCHS):  \r\n",
        "    cur_train_loss = 0\r\n",
        "    for i, data in enumerate(trainloader, 0):\r\n",
        "        # get the inputs\r\n",
        "        inputs, labels = data\r\n",
        "        inputs = inputs.to(DEVICE)\r\n",
        "        labels = labels.to(DEVICE)\r\n",
        "\r\n",
        "        # zero the parameter gradients\r\n",
        "        optimizer.zero_grad()\r\n",
        "\r\n",
        "        # forward + backward + optimize\r\n",
        "        outputs = net(inputs)\r\n",
        "        loss = criterion(outputs, labels)\r\n",
        "        loss.backward()\r\n",
        "        optimizer.step()\r\n",
        "\r\n",
        "        # print statistics\r\n",
        "        cur_train_loss += loss.item()\r\n",
        "        if (i+1) % PRINT_AFTER_SAMPLE == 0:    \r\n",
        "            print('[%d, %5d] loss: %.3f' %\r\n",
        "                  (epoch + 1, i + 1, cur_train_loss / (i+1)))\r\n",
        "    train_loss.append(cur_train_loss / (i+1))\r\n",
        "  return train_loss, time()-start_time"
      ],
      "execution_count": 15,
      "outputs": []
    },
    {
      "cell_type": "code",
      "metadata": {
        "id": "-c5noPeARWam",
        "colab": {
          "base_uri": "https://localhost:8080/"
        },
        "outputId": "85d60c54-85b4-425b-c87a-921c3e4130ce"
      },
      "source": [
        "net = BotNet50().to(DEVICE)\r\n",
        "criterion = nn.CrossEntropyLoss()\r\n",
        "optimizer = torch.optim.SGD(net.parameters(), lr=LEARNING_RATE, momentum=MOMENTUM, weight_decay=WEIGHT_DECAY)\r\n",
        "train_loss, train_time = train(net, optimizer)"
      ],
      "execution_count": 16,
      "outputs": [
        {
          "output_type": "stream",
          "text": [
            "[1,    50] loss: 0.609\n",
            "[1,   100] loss: 0.568\n",
            "[1,   150] loss: 0.561\n",
            "[1,   200] loss: 0.589\n",
            "[1,   250] loss: 0.582\n",
            "[2,    50] loss: 0.514\n",
            "[2,   100] loss: 0.479\n",
            "[2,   150] loss: 0.494\n",
            "[2,   200] loss: 0.478\n",
            "[2,   250] loss: 0.478\n",
            "[3,    50] loss: 0.408\n",
            "[3,   100] loss: 0.405\n",
            "[3,   150] loss: 0.429\n",
            "[3,   200] loss: 0.439\n",
            "[3,   250] loss: 0.441\n",
            "[4,    50] loss: 0.397\n",
            "[4,   100] loss: 0.412\n",
            "[4,   150] loss: 0.393\n",
            "[4,   200] loss: 0.378\n",
            "[4,   250] loss: 0.375\n",
            "[5,    50] loss: 0.327\n",
            "[5,   100] loss: 0.348\n",
            "[5,   150] loss: 0.338\n",
            "[5,   200] loss: 0.335\n",
            "[5,   250] loss: 0.355\n",
            "[6,    50] loss: 0.370\n",
            "[6,   100] loss: 0.352\n",
            "[6,   150] loss: 0.347\n",
            "[6,   200] loss: 0.344\n",
            "[6,   250] loss: 0.346\n",
            "[7,    50] loss: 0.316\n",
            "[7,   100] loss: 0.323\n",
            "[7,   150] loss: 0.324\n",
            "[7,   200] loss: 0.325\n",
            "[7,   250] loss: 0.315\n",
            "[8,    50] loss: 0.334\n",
            "[8,   100] loss: 0.304\n",
            "[8,   150] loss: 0.299\n",
            "[8,   200] loss: 0.306\n",
            "[8,   250] loss: 0.304\n",
            "[9,    50] loss: 0.254\n",
            "[9,   100] loss: 0.260\n",
            "[9,   150] loss: 0.264\n",
            "[9,   200] loss: 0.258\n",
            "[9,   250] loss: 0.258\n",
            "[10,    50] loss: 0.255\n",
            "[10,   100] loss: 0.263\n",
            "[10,   150] loss: 0.273\n",
            "[10,   200] loss: 0.268\n",
            "[10,   250] loss: 0.263\n"
          ],
          "name": "stdout"
        }
      ]
    },
    {
      "cell_type": "code",
      "metadata": {
        "colab": {
          "base_uri": "https://localhost:8080/"
        },
        "id": "JvagZEDI9JoE",
        "outputId": "49f1efb3-7341-475f-cf45-0ae763b90a28"
      },
      "source": [
        "train_time"
      ],
      "execution_count": 17,
      "outputs": [
        {
          "output_type": "execute_result",
          "data": {
            "text/plain": [
              "558.3639974594116"
            ]
          },
          "metadata": {
            "tags": []
          },
          "execution_count": 17
        }
      ]
    },
    {
      "cell_type": "code",
      "metadata": {
        "colab": {
          "base_uri": "https://localhost:8080/"
        },
        "id": "vDf61lKZWMIj",
        "outputId": "8cb5e5d1-7501-4365-e609-4529608996ee"
      },
      "source": [
        "baseline = resnet50().to(DEVICE)\r\n",
        "criterion = nn.CrossEntropyLoss()\r\n",
        "optimizer = torch.optim.SGD(baseline.parameters(), lr=LEARNING_RATE, momentum=MOMENTUM, weight_decay=WEIGHT_DECAY)\r\n",
        "baseline_train_loss, baseline_train_time = train(baseline, optimizer)"
      ],
      "execution_count": 18,
      "outputs": [
        {
          "output_type": "stream",
          "text": [
            "[1,    50] loss: 1.206\n",
            "[1,   100] loss: 1.625\n",
            "[1,   150] loss: 1.665\n",
            "[1,   200] loss: 1.519\n",
            "[1,   250] loss: 1.374\n",
            "[2,    50] loss: 1.020\n",
            "[2,   100] loss: 1.011\n",
            "[2,   150] loss: 1.291\n",
            "[2,   200] loss: 1.168\n",
            "[2,   250] loss: 1.086\n",
            "[3,    50] loss: 0.729\n",
            "[3,   100] loss: 0.735\n",
            "[3,   150] loss: 0.823\n",
            "[3,   200] loss: 0.818\n",
            "[3,   250] loss: 0.798\n",
            "[4,    50] loss: 1.472\n",
            "[4,   100] loss: 0.986\n",
            "[4,   150] loss: 0.930\n",
            "[4,   200] loss: 0.886\n",
            "[4,   250] loss: 0.895\n",
            "[5,    50] loss: 1.967\n",
            "[5,   100] loss: 1.271\n",
            "[5,   150] loss: 1.075\n",
            "[5,   200] loss: 1.026\n",
            "[5,   250] loss: 0.934\n",
            "[6,    50] loss: 0.576\n",
            "[6,   100] loss: 0.593\n",
            "[6,   150] loss: 0.618\n",
            "[6,   200] loss: 0.600\n",
            "[6,   250] loss: 0.587\n",
            "[7,    50] loss: 0.530\n",
            "[7,   100] loss: 0.476\n",
            "[7,   150] loss: 0.463\n",
            "[7,   200] loss: 0.455\n",
            "[7,   250] loss: 0.445\n",
            "[8,    50] loss: 0.449\n",
            "[8,   100] loss: 0.431\n",
            "[8,   150] loss: 0.430\n",
            "[8,   200] loss: 0.422\n",
            "[8,   250] loss: 0.411\n",
            "[9,    50] loss: 0.398\n",
            "[9,   100] loss: 0.436\n",
            "[9,   150] loss: 0.419\n",
            "[9,   200] loss: 0.410\n",
            "[9,   250] loss: 0.402\n",
            "[10,    50] loss: 0.409\n",
            "[10,   100] loss: 0.364\n",
            "[10,   150] loss: 0.365\n",
            "[10,   200] loss: 0.362\n",
            "[10,   250] loss: 0.356\n"
          ],
          "name": "stdout"
        }
      ]
    },
    {
      "cell_type": "code",
      "metadata": {
        "id": "6-3IgWpLUA0J",
        "colab": {
          "base_uri": "https://localhost:8080/",
          "height": 281
        },
        "outputId": "02bf2715-68c0-4896-a979-6cf6458943c3"
      },
      "source": [
        "plot_loss(train_loss)"
      ],
      "execution_count": 19,
      "outputs": [
        {
          "output_type": "display_data",
          "data": {
            "image/png": "[encoded data removed]",
            "text/plain": [
              "<Figure size 432x288 with 1 Axes>"
            ]
          },
          "metadata": {
            "tags": [],
            "needs_background": "light"
          }
        }
      ]
    },
    {
      "cell_type": "code",
      "metadata": {
        "colab": {
          "base_uri": "https://localhost:8080/",
          "height": 281
        },
        "id": "pj5iNtKYo_1t",
        "outputId": "394fcc69-4cf8-42d5-e99a-db13ae31de5e"
      },
      "source": [
        "plot_loss(baseline_train_loss)"
      ],
      "execution_count": 20,
      "outputs": [
        {
          "output_type": "display_data",
          "data": {
            "image/png": "[encoded data removed]",
            "text/plain": [
              "<Figure size 432x288 with 1 Axes>"
            ]
          },
          "metadata": {
            "tags": [],
            "needs_background": "light"
          }
        }
      ]
    },
    {
      "cell_type": "markdown",
      "metadata": {
        "id": "RkSOtIW33HZA"
      },
      "source": [
        "## BotNet50 test"
      ]
    },
    {
      "cell_type": "markdown",
      "metadata": {
        "id": "gwTec3JO5Dxm"
      },
      "source": [
        "### Data load"
      ]
    },
    {
      "cell_type": "code",
      "metadata": {
        "id": "DTaIk0xGilKz"
      },
      "source": [
        "test_dataset = list(zip(X_val, y_val))\n",
        "testloader = torch.utils.data.DataLoader(test_dataset,\n",
        "                                             batch_size=BATCH_SIZE, \n",
        "                                             shuffle=False)"
      ],
      "execution_count": 21,
      "outputs": []
    },
    {
      "cell_type": "markdown",
      "metadata": {
        "id": "8ZZiGM3A5GYv"
      },
      "source": [
        "### Evaluation"
      ]
    },
    {
      "cell_type": "code",
      "metadata": {
        "id": "shpISl35SYbw"
      },
      "source": [
        "def eval_model(net):\r\n",
        "  correct = 0\r\n",
        "  total = 0\r\n",
        "  with torch.no_grad():\r\n",
        "      for data in testloader:\r\n",
        "          inputs, labels = data\r\n",
        "          inputs = inputs.to(DEVICE)\r\n",
        "          labels = labels.to(DEVICE)\r\n",
        "          outputs = net(inputs)\r\n",
        "          _, predicted = torch.max(outputs.data, 1)\r\n",
        "          total += labels.size(0)\r\n",
        "          correct += (predicted == labels).sum().item()\r\n",
        "\r\n",
        "  print('Accuracy of the network on the test images: %d %%' % (100 * correct / total))"
      ],
      "execution_count": 22,
      "outputs": []
    },
    {
      "cell_type": "code",
      "metadata": {
        "id": "xBCGiZtMTuTc",
        "colab": {
          "base_uri": "https://localhost:8080/"
        },
        "outputId": "5428ccf8-b819-4026-906b-9e6119057afe"
      },
      "source": [
        "print(\"Resnet50's accuracy: \")\r\n",
        "eval_model(baseline)\r\n",
        "print(\"BoTNet50's accuracy: \")\r\n",
        "eval_model(net)"
      ],
      "execution_count": 23,
      "outputs": [
        {
          "output_type": "stream",
          "text": [
            "Resnet50's accuracy: \n",
            "Accuracy of the network on the test images: 84 %\n",
            "BoTNet50's accuracy: \n",
            "Accuracy of the network on the test images: 89 %\n"
          ],
          "name": "stdout"
        }
      ]
    }
  ]
}